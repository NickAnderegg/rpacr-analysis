{
 "cells": [
  {
   "cell_type": "code",
   "execution_count": 75,
   "metadata": {
    "collapsed": false
   },
   "outputs": [],
   "source": [
    "criticals_only = read.csv('output/criticals_only-filtered.csv', header=T, sep='\\t')\n",
    "\n",
    "criticals_only$ortho_similarity <- factor(criticals_only$ortho_similarity)\n",
    "criticals_only$phono_similarity <- factor(criticals_only$phono_similarity)\n",
    "\n",
    "contrasts(criticals_only$ortho_similarity) <- matrix(c(-(1/2), (1/2), (1/2), -(1/2)), ncol=2)\n",
    "contrasts(criticals_only$phono_similarity) <- matrix(c(-(1/2), (1/2), (1/2), -(1/2)), ncol=2)\n",
    "\n",
    "criticals_only$switch = abs(criticals_only$prev_pos - criticals_only$target_pos)"
   ]
  },
  {
   "cell_type": "code",
   "execution_count": 71,
   "metadata": {
    "collapsed": false
   },
   "outputs": [
    {
     "name": "stderr",
     "output_type": "stream",
     "text": [
      "Loading required package: Matrix\n"
     ]
    }
   ],
   "source": [
    "library(lme4)"
   ]
  },
  {
   "cell_type": "code",
   "execution_count": 76,
   "metadata": {
    "collapsed": false
   },
   "outputs": [],
   "source": [
    "test = lmer(inv_RT ~ ortho_similarity*phono_similarity +\n",
    "            scale(critical_target_freq) +\n",
    "            target_length + target_pos + switch +\n",
    "            (1 + ortho_similarity * phono_similarity | participant) +\n",
    "            (1 | sentence_number),\n",
    "            data=criticals_only\n",
    ")"
   ]
  },
  {
   "cell_type": "code",
   "execution_count": 77,
   "metadata": {
    "collapsed": false
   },
   "outputs": [
    {
     "data": {
      "text/plain": [
       "Linear mixed model fit by REML ['lmerMod']\n",
       "Formula: \n",
       "inv_RT ~ ortho_similarity * phono_similarity + scale(critical_target_freq) +  \n",
       "    target_length + target_pos + switch + (1 + ortho_similarity *  \n",
       "    phono_similarity | participant) + (1 | sentence_number)\n",
       "   Data: criticals_only\n",
       "\n",
       "REML criterion at convergence: 1856.1\n",
       "\n",
       "Scaled residuals: \n",
       "    Min      1Q  Median      3Q     Max \n",
       "-4.2286 -0.6170  0.0359  0.6518  3.4590 \n",
       "\n",
       "Random effects:\n",
       " Groups          Name                                Variance  Std.Dev. Corr \n",
       " sentence_number (Intercept)                         0.0395392 0.19884       \n",
       " participant     (Intercept)                         0.0166470 0.12902       \n",
       "                 ortho_similarity1                   0.0007581 0.02753  -0.77\n",
       "                 phono_similarity1                   0.0018328 0.04281  -0.17\n",
       "                 ortho_similarity1:phono_similarity1 0.0026461 0.05144  -0.41\n",
       " Residual                                            0.0864799 0.29407       \n",
       "            \n",
       "            \n",
       "            \n",
       "            \n",
       "  0.23      \n",
       "  0.84 -0.18\n",
       "            \n",
       "Number of obs: 3567, groups:  sentence_number, 91; participant, 50\n",
       "\n",
       "Fixed effects:\n",
       "                                     Estimate Std. Error t value\n",
       "(Intercept)                         -1.297777   0.059058 -21.975\n",
       "ortho_similarity1                    0.140584   0.010691  13.150\n",
       "phono_similarity1                    0.011953   0.011639   1.027\n",
       "scale(critical_target_freq)         -0.076740   0.021692  -3.538\n",
       "target_length                        0.096870   0.023625   4.100\n",
       "target_pos                           0.013774   0.010083   1.366\n",
       "switch                              -0.052054   0.010051  -5.179\n",
       "ortho_similarity1:phono_similarity1  0.009507   0.021213   0.448\n",
       "\n",
       "Correlation of Fixed Effects:\n",
       "            (Intr) orth_1 phn_s1 sc(__) trgt_l trgt_p switch\n",
       "orth_smlrt1 -0.085                                          \n",
       "phn_smlrty1 -0.024  0.090                                   \n",
       "scl(crtc__) -0.035 -0.001 -0.002                            \n",
       "targt_lngth -0.870  0.003  0.001  0.045                     \n",
       "target_pos  -0.089 -0.006  0.004  0.006  0.001              \n",
       "switch      -0.087 -0.007 -0.005  0.003  0.003  0.002       \n",
       "orth_sm1:_1 -0.042  0.161  0.009  0.001  0.001  0.008  0.013"
      ]
     },
     "metadata": {},
     "output_type": "display_data"
    }
   ],
   "source": [
    "summary(test)"
   ]
  }
 ],
 "metadata": {
  "kernelspec": {
   "display_name": "R",
   "language": "R",
   "name": "ir"
  },
  "language_info": {
   "codemirror_mode": "r",
   "file_extension": ".r",
   "mimetype": "text/x-r-source",
   "name": "R",
   "pygments_lexer": "r",
   "version": "3.3.2"
  }
 },
 "nbformat": 4,
 "nbformat_minor": 2
}
