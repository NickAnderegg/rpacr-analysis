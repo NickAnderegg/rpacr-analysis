{
 "cells": [
  {
   "cell_type": "markdown",
   "metadata": {},
   "source": [
    "# Import dependencies"
   ]
  },
  {
   "cell_type": "markdown",
   "metadata": {},
   "source": [
    "### Basic utilities"
   ]
  },
  {
   "cell_type": "code",
   "execution_count": 1,
   "metadata": {
    "collapsed": true
   },
   "outputs": [],
   "source": [
    "import pathlib\n",
    "import json\n",
    "import csv\n",
    "from pprint import pprint\n",
    "import re\n",
    "import unicodedata"
   ]
  },
  {
   "cell_type": "markdown",
   "metadata": {},
   "source": [
    "### Data structures"
   ]
  },
  {
   "cell_type": "code",
   "execution_count": 2,
   "metadata": {
    "collapsed": true
   },
   "outputs": [],
   "source": [
    "import numpy as np\n",
    "import pandas as pd"
   ]
  },
  {
   "cell_type": "markdown",
   "metadata": {},
   "source": [
    "### Plotting and visualization"
   ]
  },
  {
   "cell_type": "code",
   "execution_count": 3,
   "metadata": {
    "collapsed": false
   },
   "outputs": [],
   "source": [
    "from IPython.display import display, display_html, HTML\n",
    "import IPython.display as dsp\n",
    "\n",
    "import matplotlib.pyplot as plt\n",
    "\n",
    "import seaborn as sns"
   ]
  },
  {
   "cell_type": "markdown",
   "metadata": {},
   "source": [
    "### Import statistical packages"
   ]
  },
  {
   "cell_type": "code",
   "execution_count": 4,
   "metadata": {
    "collapsed": false
   },
   "outputs": [
    {
     "name": "stderr",
     "output_type": "stream",
     "text": [
      "/Users/nick/.pyenv/versions/anaconda3-4.3.1/lib/python3.6/site-packages/statsmodels/compat/pandas.py:56: FutureWarning: The pandas.core.datetools module is deprecated and will be removed in a future version. Please use the pandas.tseries module instead.\n",
      "  from pandas.core import datetools\n"
     ]
    }
   ],
   "source": [
    "# statsmodels\n",
    "import statsmodels.formula.api as smf\n",
    "import statsmodels.api as sm\n",
    "from statsmodels.stats import anova\n",
    "from statsmodels.graphics.factorplots import interaction_plot\n",
    "\n",
    "# scipy\n",
    "from scipy import stats"
   ]
  },
  {
   "cell_type": "markdown",
   "metadata": {},
   "source": [
    "### Set miscellaneous options"
   ]
  },
  {
   "cell_type": "code",
   "execution_count": 57,
   "metadata": {
    "collapsed": false
   },
   "outputs": [
    {
     "name": "stdout",
     "output_type": "stream",
     "text": [
      "Using matplotlib backend: MacOSX\n",
      "Populating the interactive namespace from numpy and matplotlib\n"
     ]
    }
   ],
   "source": [
    "sns.set_style(\"whitegrid\")\n",
    "%matplotlib\n",
    "%pylab inline\n",
    "\n",
    "# Set the maximum number of columns for pandas to display\n",
    "pd.set_option(\"display.max_columns\",35)\n",
    "pd.set_option(\"display.max_rows\",150)\n",
    "pd.options.mode.chained_assignment = None"
   ]
  },
  {
   "cell_type": "markdown",
   "metadata": {},
   "source": [
    "---"
   ]
  },
  {
   "cell_type": "markdown",
   "metadata": {},
   "source": [
    "# Utility functions"
   ]
  },
  {
   "cell_type": "markdown",
   "metadata": {},
   "source": [
    "### Define function to print pretty string output in HTML format"
   ]
  },
  {
   "cell_type": "code",
   "execution_count": 6,
   "metadata": {
    "collapsed": false
   },
   "outputs": [],
   "source": [
    "def mdprint(*objects, tag=None):\n",
    "    raw_string = ' '.join([str(__) for __ in objects])\n",
    "    \n",
    "    if tag == 'h1':\n",
    "        raw_string = '<h1>{}</h1>'.format(raw_string)\n",
    "    elif tag == 'h2':\n",
    "        raw_string = '<h2>{}</h2>'.format(raw_string)\n",
    "    elif tag == 'h3':\n",
    "        raw_string = '<h3>{}</h3>'.format(raw_string)\n",
    "    elif tag == 'b':\n",
    "        raw_string = '<b>{}</b>'.format(raw_string)\n",
    "    \n",
    "    display(HTML(raw_string))\n",
    "\n",
    "verbose_printing = False\n",
    "def vprint(*args, **kwargs):\n",
    "    if verbose_printing:\n",
    "        mdprint(*args, **kwargs)"
   ]
  },
  {
   "cell_type": "markdown",
   "metadata": {},
   "source": [
    "---"
   ]
  },
  {
   "cell_type": "markdown",
   "metadata": {},
   "source": [
    "# Data file input"
   ]
  },
  {
   "cell_type": "markdown",
   "metadata": {},
   "source": [
    "### Load raw data files: `get_raw_data_files()`\n",
    "\n",
    "- Define function to load the raw data files from the `/data/mazeexperiment/participant_data/` directory\n",
    "- If the experiment script was started with a certain participant number on more than one occasion, subsequent occasions have a sequence number appended to the end. This function skips any files which are less than 1000 bytes, i.e. files which resulted from a false start of the experiment script"
   ]
  },
  {
   "cell_type": "code",
   "execution_count": 7,
   "metadata": {
    "collapsed": false
   },
   "outputs": [],
   "source": [
    "def get_raw_data_files(raw_data_folder):\n",
    "    raw_data_files = raw_data_folder.glob('*.csv')\n",
    "    \n",
    "    chosen_files = list()\n",
    "    for f in raw_data_files:\n",
    "        # Check to see that file is larger than 1KB\n",
    "        if f.stat().st_size > 1000:\n",
    "            chosen_files.append(f)\n",
    "            \n",
    "    return chosen_files"
   ]
  },
  {
   "cell_type": "markdown",
   "metadata": {},
   "source": [
    "### Reformat data files: `reformat_raw_data_files(raw_data_files)`\n",
    "\n",
    "- Unescaped double quotes within the all_runtime column causes the data files to be misparsed.\n",
    "- This function fixes that error to make these files parseable"
   ]
  },
  {
   "cell_type": "code",
   "execution_count": 8,
   "metadata": {
    "collapsed": true
   },
   "outputs": [],
   "source": [
    "def reformat_raw_data_files(raw_data_files, reformatted_data_folder):\n",
    "    reformatted_files = list()\n",
    "    \n",
    "    for data_file in raw_data_files:\n",
    "        # Fix name of file if it contains a sequence number at the end\n",
    "        fixed_name = './{}/{}'.format(str(reformatted_data_folder), data_file.name)\n",
    "        m = re.search(\n",
    "            '(?P<directory>\\./data/mazeexperiment/participant_data-reformatted/)' +\n",
    "            '(?P<basename>RPACR_\\d{3}_\\d{4}-\\d{2}-\\d{2})' +\n",
    "            '(?P<subscript>_\\d+)?' +\n",
    "            '(?P<extension>\\.\\w+)', fixed_name)\n",
    "        m = m.groupdict()\n",
    "        fixed_name = '{}{}{}'.format(m['directory'], m['basename'], m['extension'])\n",
    "        fixed_file = pathlib.Path(fixed_name)\n",
    "        \n",
    "        # Open the raw input file and the output file for the reformatted data\n",
    "        with data_file.open('r', encoding='utf-8') as in_file, fixed_file.open('w', encoding='utf-8') as out_file:\n",
    "            # Loop through each line, fix the unescaped double quote, and write the line to a new file\n",
    "            count = 0\n",
    "            for line in in_file:\n",
    "                if count == 0:\n",
    "                    out_file.writelines(line)\n",
    "                    continue\n",
    "\n",
    "                fixed_line = line.replace('systemPlatform\\': \"windowsversion', 'systemPlatform\\': \"\"windowsversion')\n",
    "                fixed_line = fixed_line.replace('\\')\", \\'experi', '\\')\"\", \\'experi')\n",
    "                out_file.writelines(fixed_line)\n",
    "                \n",
    "        reformatted_files.append(fixed_file)\n",
    "        \n",
    "    return reformatted_files"
   ]
  },
  {
   "cell_type": "markdown",
   "metadata": {},
   "source": [
    "### Parse files: `parse_raw_data_files(raw_data_files)`\n",
    "\n",
    "The data files contain a serialized data structure that the `csv` module misinterprets as many columns. This function will combine those columns back into a list and write the result to new output files."
   ]
  },
  {
   "cell_type": "code",
   "execution_count": 9,
   "metadata": {
    "collapsed": true
   },
   "outputs": [],
   "source": [
    "def parse_raw_data_files(raw_data_files, parsed_data_folder):\n",
    "    \n",
    "    parsed_files = list()\n",
    "    \n",
    "    for data_file in raw_data_files:\n",
    "        \n",
    "        # Open the data file\n",
    "        with data_file.open('r', encoding='utf-8') as f:\n",
    "            csvreader = csv.reader(f, delimiter=',', quotechar='\"')\n",
    "            data = []\n",
    "\n",
    "            # Append the first (header) line to the list of lines\n",
    "            data.append(next(csvreader)[:-1])\n",
    "            \n",
    "            # Correct a series of columns that the csv package parses as many individual columns\n",
    "            # rather than as items within a serialized data structure\n",
    "            for line in csvreader:\n",
    "                data.append(line[:41] + [', '.join(line[41:83])] + line[83:-1])\n",
    "                \n",
    "        # Specify location of processed data file\n",
    "        parsed_data_file = '{}/{}'.format(parsed_data_folder_name, data_file.name)\n",
    "        parsed_data_file = pathlib.Path(parsed_data_file)\n",
    "        \n",
    "        # Write out processed version of data file\n",
    "        with parsed_data_file.open('w', encoding='utf-8') as f:\n",
    "            csvwriter = csv.writer(f, delimiter=',', quotechar='\"')\n",
    "            csvwriter.writerows(data)\n",
    "            \n",
    "        parsed_files.append(parsed_data_file)\n",
    "        \n",
    "    return parsed_files"
   ]
  },
  {
   "cell_type": "markdown",
   "metadata": {},
   "source": [
    "### Load and process data files for analysis\n",
    "\n",
    "- Check to see if folder containing reformatted and parsed data folders already exists, then load files\n",
    "- Otherwise, reformat and parse the loaded raw data files"
   ]
  },
  {
   "cell_type": "code",
   "execution_count": 10,
   "metadata": {
    "collapsed": false
   },
   "outputs": [
    {
     "data": {
      "text/html": [
       "Found 53 raw data files"
      ],
      "text/plain": [
       "<IPython.core.display.HTML object>"
      ]
     },
     "metadata": {},
     "output_type": "display_data"
    },
    {
     "data": {
      "text/html": [
       "<b>Raw data files have already been processed.</b>"
      ],
      "text/plain": [
       "<IPython.core.display.HTML object>"
      ]
     },
     "metadata": {},
     "output_type": "display_data"
    },
    {
     "data": {
      "text/html": [
       "Skipping reformatting and parsing steps..."
      ],
      "text/plain": [
       "<IPython.core.display.HTML object>"
      ]
     },
     "metadata": {},
     "output_type": "display_data"
    },
    {
     "data": {
      "text/html": [
       "Loaded 53 data files for analysis."
      ],
      "text/plain": [
       "<IPython.core.display.HTML object>"
      ]
     },
     "metadata": {},
     "output_type": "display_data"
    }
   ],
   "source": [
    "# Specify raw data folder\n",
    "raw_data_folder_name = './data/mazeexperiment/participant_data/'\n",
    "raw_data_folder = pathlib.Path(raw_data_folder_name)\n",
    "\n",
    "# Create folder to hold reformatted data\n",
    "reformatted_data_folder_name = './data/mazeexperiment/participant_data-reformatted/'\n",
    "reformatted_data_folder = pathlib.Path(reformatted_data_folder_name)\n",
    "reformatted_data_folder.mkdir(exist_ok=True)\n",
    "\n",
    "# Create processed data folder\n",
    "parsed_data_folder_name = './data/mazeexperiment/participant_data-processed/'\n",
    "parsed_data_folder = pathlib.Path(parsed_data_folder_name)\n",
    "parsed_data_folder.mkdir(exist_ok=True)\n",
    "\n",
    "# Load raw data files from disk\n",
    "raw_data_files = get_raw_data_files(raw_data_folder)\n",
    "mdprint('Found {} raw data files'.format(len(raw_data_files)))\n",
    "\n",
    "# Check to see if parsed data files already exist\n",
    "parsed_data_files = list(parsed_data_folder.glob('*.csv'))\n",
    "\n",
    "# If the number of files in the parsed data directory is equal to the number\n",
    "# of raw data files, skip the reformatting and parsing steps\n",
    "if len(parsed_data_files) == len(raw_data_files):\n",
    "    mdprint('Raw data files have already been processed.', tag='b')\n",
    "    mdprint('Skipping reformatting and parsing steps...')\n",
    "    data_files = list(parsed_data_files)\n",
    "else:\n",
    "    mdprint('Now formatting and parsing raw data files for analysis...')\n",
    "    \n",
    "    raw_data_files = reformat_raw_data_files(raw_data_files, reformatted_data_folder)\n",
    "    mdprint('Reformatted {} raw data files'.format(len(raw_data_files)))\n",
    "    \n",
    "    data_files = parse_raw_data_files(raw_data_files, parsed_data_folder)\n",
    "\n",
    "mdprint('Loaded {} data files for analysis.'.format(len(data_files)))"
   ]
  },
  {
   "cell_type": "markdown",
   "metadata": {},
   "source": [
    "---"
   ]
  },
  {
   "cell_type": "markdown",
   "metadata": {},
   "source": [
    "# Prepare data structures for analysis"
   ]
  },
  {
   "cell_type": "markdown",
   "metadata": {},
   "source": [
    "### Aggregate all participant IDs from the data file names"
   ]
  },
  {
   "cell_type": "code",
   "execution_count": 11,
   "metadata": {
    "collapsed": true
   },
   "outputs": [],
   "source": [
    "# Aggregate all participant ID numbers\n",
    "participant_ids = []\n",
    "\n",
    "# The index of where the participant ID number starts in the file name\n",
    "pid_start = data_files[0].name.index('_') + 1\n",
    "for data_file in data_files:\n",
    "    # Extract the ID substring for the file name and convert it to an int\n",
    "    pid = np.int16(data_file.name[pid_start:pid_start+3])\n",
    "    participant_ids.append(pid)"
   ]
  },
  {
   "cell_type": "markdown",
   "metadata": {},
   "source": [
    "### Create empty `participants` DataFrame"
   ]
  },
  {
   "cell_type": "code",
   "execution_count": 12,
   "metadata": {
    "collapsed": false
   },
   "outputs": [],
   "source": [
    "columns = [\n",
    "    'data',\n",
    "    'session_time',\n",
    "    'version',\n",
    "    'platform',\n",
    "    'hostname',\n",
    "    'psychopy_version',\n",
    "    'window_size',\n",
    "    'window_type'\n",
    "]\n",
    "\n",
    "participants = pd.DataFrame(\n",
    "    index=pd.Index(participant_ids, name='participant'),\n",
    "    columns=columns\n",
    ")"
   ]
  },
  {
   "cell_type": "markdown",
   "metadata": {},
   "source": [
    "### Load participant data into DataFrame"
   ]
  },
  {
   "cell_type": "markdown",
   "metadata": {},
   "source": [
    "#### Load data from CSV file, excluding irrelevent columns"
   ]
  },
  {
   "cell_type": "code",
   "execution_count": 13,
   "metadata": {
    "collapsed": true
   },
   "outputs": [],
   "source": [
    "def load_csv_data(data):\n",
    "    \n",
    "    trials_df = pd.DataFrame.from_records(\n",
    "        data[1:],\n",
    "        columns=data[0],\n",
    "        exclude=[\n",
    "            'sentence', 'practice_block.thisRepN',\n",
    "            'practice_block.thisTrialN', 'practice_block.thisN',\n",
    "            'practice_block.thisIndex', 'proc_count',\n",
    "            'exp_name', 'all_runtime',\n",
    "            'frame_rate', 'pretrial_fixation'\n",
    "        ]\n",
    "    )\n",
    "\n",
    "    \n",
    "    # Exclude rows without a sentence block index, i.e. practice trials\n",
    "    trials_df = trials_df.loc[trials_df['sentence_block.thisIndex'] != '']\n",
    "    trials_df = trials_df.rename(columns={\n",
    "        'sentence_trial.thisIndex': 'sentence_index',\n",
    "        'sentence_block.thisN': 'sentence_order'\n",
    "    })\n",
    "    \n",
    "    # Rename columns that don't have a valid Pythonic name\n",
    "    renamed_cols = dict()\n",
    "    for col in trials_df.axes[1]:\n",
    "        if '.' in col:\n",
    "            renamed_cols[col] = col.replace('.', '_')\n",
    "            \n",
    "    trials_df = trials_df.rename(columns=renamed_cols)\n",
    "    \n",
    "    # Convert numeric columns from string to int\n",
    "    numeric_cols = [\n",
    "        'target_pos', 'resp', 'resp_acc', 'sentence_index', 'sentence_order', 'critical_index',\n",
    "        'condition', 'block_acc', 'sentence_number', 'resp_RT', 'block_RT'\n",
    "    ]\n",
    "    trials_df[numeric_cols] = trials_df[numeric_cols].apply(pd.to_numeric).astype(np.int)\n",
    "    \n",
    "    return trials_df"
   ]
  },
  {
   "cell_type": "markdown",
   "metadata": {},
   "source": [
    "#### Create a dataframe containing the individual item pairs in each sentence"
   ]
  },
  {
   "cell_type": "code",
   "execution_count": 14,
   "metadata": {
    "collapsed": true
   },
   "outputs": [],
   "source": [
    "def process_sentence_dataframe(trials_df):\n",
    "    \n",
    "    # Don't include the rows that contain block accuracy\n",
    "    # Index DF by sentence number and pair index (2D)\n",
    "    sentences_df = trials_df\\\n",
    "        .loc[np.isnan(trials_df['block_acc'])]\\\n",
    "        .set_index(['sentence_number', 'sentence_index'])\\\n",
    "        .filter([\n",
    "            'pair_distractor', 'pair_correct',\n",
    "            'target_pos', 'target_pos_verbose',\n",
    "            'resp', 'resp_verbose',\n",
    "            'resp_RT', 'resp_acc',\n",
    "            'prev_pos', 'prev_resp'\n",
    "        ])\n",
    "    \n",
    "    numeric_cols = ['target_pos', 'resp', 'resp_acc']\n",
    "    sentences_df[numeric_cols] = sentences_df[numeric_cols].apply(pd.to_numeric).astype(np.int)\n",
    "    \n",
    "    return sentences_df"
   ]
  },
  {
   "cell_type": "code",
   "execution_count": 15,
   "metadata": {
    "collapsed": false
   },
   "outputs": [
    {
     "name": "stderr",
     "output_type": "stream",
     "text": [
      "/Users/nick/.pyenv/versions/anaconda3-4.3.1/lib/python3.6/site-packages/ipykernel/__main__.py:36: FutureWarning: the raise_on_error=False keyword is deprecated, use errors='ignore' instead\n"
     ]
    }
   ],
   "source": [
    "def adjust_critical_index(df):\n",
    "    \n",
    "    # Get all of the sentence numbers in the data files\n",
    "    sentence_numbers = sorted(pd.unique(df['sentence_number']))\n",
    "    \n",
    "    # Create dataframe to hold adjusted critical indices\n",
    "    adjusted_indices = pd.DataFrame(\n",
    "        index=pd.Index(sentence_numbers, dtype=np.int),\n",
    "        columns=['sentence_number', 'critical_index'],\n",
    "        dtype=np.int\n",
    "    )\n",
    "    \n",
    "    for sentence_number in sentence_numbers:\n",
    "        for i in range(-2, 3):\n",
    "            \n",
    "            uniques = df.loc[\n",
    "                (np.isnan(df['block_acc'])) &\n",
    "                (df['sentence_number'] == sentence_number) &\n",
    "                (df['sentence_index'] == df['critical_index'] + i)\n",
    "            ][['pair_distractor', 'condition', 'participant', 'critical_index']]\n",
    "            \n",
    "            unique_distractors = pd.unique(uniques['pair_distractor'])\n",
    "            unique_conditions = pd.unique(uniques['condition'])\n",
    "\n",
    "            if len(unique_conditions) > 0 and len(unique_distractors) > 1:\n",
    "                adjusted_indices.loc[sentence_number][['sentence_number', 'critical_index']] =\\\n",
    "                    [sentence_number, uniques.iloc[0]['critical_index'] + i]\n",
    "\n",
    "    return adjusted_indices\n",
    "                \n",
    "df = None\n",
    "for data_file in data_files[:50:2]:\n",
    "    with data_file.open('r') as f:\n",
    "        data = list(csv.reader(f, delimiter=','))\n",
    "        \n",
    "        if df is None:\n",
    "            df = load_csv_data(data)\n",
    "        else:\n",
    "            df = df.append(load_csv_data(data))\n",
    "\n",
    "adjusted_critical_indices = adjust_critical_index(df)"
   ]
  },
  {
   "cell_type": "markdown",
   "metadata": {},
   "source": [
    "#### Create a dataframe containing block-level information for each sentence"
   ]
  },
  {
   "cell_type": "code",
   "execution_count": 16,
   "metadata": {
    "collapsed": true
   },
   "outputs": [],
   "source": [
    "def process_block_dataframe(trials_df):\n",
    "    \n",
    "    # Include only rows that contain block accuracy\n",
    "    # Index DF by sentence number\n",
    "\n",
    "    block_df = trials_df\\\n",
    "        .loc[np.isfinite(trials_df['block_acc'])]\\\n",
    "        .set_index(['sentence_number'])\\\n",
    "        .filter([\n",
    "            'sentence_order', 'full_sentence', 'critical_index',\n",
    "            'critical_target', 'condition',\n",
    "            'critical_distractor', 'block_acc',\n",
    "            'block_RT'\n",
    "        ])\n",
    "    \n",
    "    numeric_cols = ['sentence_order', 'critical_index', 'condition', 'block_acc', 'block_RT']\n",
    "    block_df[numeric_cols] = block_df[numeric_cols].apply(pd.to_numeric).astype(np.int)\n",
    "    for i in range(1, len(block_df)+1):\n",
    "        block_df.loc[i, 'critical_index'] = adjusted_critical_indices.loc[i]['critical_index']\n",
    "    \n",
    "    return block_df"
   ]
  },
  {
   "cell_type": "markdown",
   "metadata": {},
   "source": [
    "#### Add condition labels to block-level information for each sentence"
   ]
  },
  {
   "cell_type": "code",
   "execution_count": 17,
   "metadata": {
    "collapsed": true
   },
   "outputs": [],
   "source": [
    "def process_condition_labels(block_df):\n",
    "    \n",
    "    # Define condition names and condition characteristics\n",
    "    distractor_conditions = {1: 'both_sim', 2: 'orth_sim', 3: 'phon_sim', 4: 'both_dif'}\n",
    "    phono_sim_condition = {1: True, 2: False, 3: True, 4: False}\n",
    "    ortho_sim_condition = {1: True, 2: True, 3: False, 4: False}\n",
    "    \n",
    "    block_df['condition_label'] = block_df.apply(lambda row: distractor_conditions[row['condition']], axis=1)\n",
    "    block_df['ortho_similarity'] = block_df.apply(lambda row: int(ortho_sim_condition[row['condition']]), axis=1)\n",
    "    block_df['phono_similarity'] = block_df.apply(lambda row: int(phono_sim_condition[row['condition']]), axis=1)\n",
    "    \n",
    "    return block_df"
   ]
  },
  {
   "cell_type": "markdown",
   "metadata": {},
   "source": [
    "#### Add stimuli characteristics to block-level information"
   ]
  },
  {
   "cell_type": "code",
   "execution_count": 18,
   "metadata": {
    "collapsed": false
   },
   "outputs": [],
   "source": [
    "def process_stim_characteristics(block_df, sentences_df):\n",
    "    \n",
    "    ####################################################################################\n",
    "    # Load SUBTLEX character file\n",
    "    ####################################################################################\n",
    "    \n",
    "    subtlex_chr_file = pathlib.Path('/Users/nick/github/orthophonology/data/subtlex-ch/SUBTLEX-CH-CHR.csv')\n",
    "    \n",
    "    with subtlex_chr_file.open('r') as f:\n",
    "        subtlex_total_chr = next(f).split(': ')[1].replace(',', '').strip()\n",
    "        subtlex_total_chr_contexts = next(f).split(': ')[1].replace(',', '').strip()\n",
    "        \n",
    "        subtlex_chr = pd.read_csv(f, sep='\\t')\n",
    "        \n",
    "    subtlex_chr.columns = [\n",
    "        'character', 'count', 'per_million', 'log_count',\n",
    "        'context_count', 'context_percent', 'log_context_count'\n",
    "    ]\n",
    "    \n",
    "    ####################################################################################\n",
    "    # Load SUBTLEX word file\n",
    "    ####################################################################################\n",
    "    \n",
    "    subtlex_word_file = pathlib.Path('/Users/nick/github/orthophonology/data/subtlex-ch/SUBTLEX-CH-WF.csv')\n",
    "    \n",
    "    with subtlex_word_file.open('r') as f:\n",
    "        subtlex_total_word = next(f).split(': ')[1].replace(',', '').strip()\n",
    "        subtlex_total_word_contexts = next(f).split(': ')[1].replace(',', '').strip()\n",
    "        \n",
    "        subtlex_word = pd.read_csv(f, sep='\\t')\n",
    "        \n",
    "    subtlex_word.columns = [\n",
    "        'word', 'count', 'per_million', 'log_count',\n",
    "        'context_count', 'context_percent', 'log_context_count'\n",
    "    ]\n",
    "\n",
    "    ####################################################################################\n",
    "    # Add frequency data to blocks\n",
    "    ####################################################################################\n",
    "    \n",
    "    for ix, block in block_df.iterrows():\n",
    "        \n",
    "        ################################################################################\n",
    "        # Check if the critical word was reached\n",
    "        ################################################################################\n",
    "        sentence = sentences_df.loc[ix]\n",
    "        if block['critical_index'] in sentence.index:\n",
    "            critical_pair = sentence.loc[block['critical_index']]\n",
    "            block_df.loc[ix, 'critical_reached'] = 1\n",
    "            \n",
    "        else:\n",
    "            block_df.loc[ix, 'critical_reached'] = 0\n",
    "            continue\n",
    "            \n",
    "        \n",
    "        ################################################################################\n",
    "        # Process the target and distractor words\n",
    "        ################################################################################\n",
    "        if unicodedata.category(critical_pair['pair_correct'][-1]) == 'P':\n",
    "            block_df.loc[ix, 'critical_target_word'] = critical_pair['pair_correct'][:-1]\n",
    "        else:\n",
    "            block_df.loc[ix, 'critical_target_word'] = critical_pair['pair_correct']\n",
    "        block_df.loc[ix, 'target_length'] = len(block_df.loc[ix, 'critical_target_word'])\n",
    "        \n",
    "        block_df.loc[ix, 'critical_distractor_word'] = block_df.loc[ix, 'critical_distractor']\n",
    "        \n",
    "        # Isolate distractor character\n",
    "        dist_word = block_df.loc[ix]['critical_distractor_word']\n",
    "        targ_word = block_df.loc[ix]['critical_target_word']\n",
    "        for charx in range(len(targ_word)):\n",
    "            if dist_word[charx] != targ_word[charx]:\n",
    "                block_df.loc[ix, 'critical_distractor'] = dist_word[charx]\n",
    "                break\n",
    "        else:\n",
    "            raise ValueError('Could not isolate distractor character')\n",
    "        \n",
    "        \n",
    "        ################################################################################\n",
    "        # Get the frequencies\n",
    "        ################################################################################\n",
    "        # Get frequency of target character\n",
    "        if len(subtlex_chr.loc[subtlex_chr['character'] == block_df.loc[ix, 'critical_target']]):\n",
    "            block_df.loc[ix, 'critical_target_freq']\\\n",
    "                = np.float(subtlex_chr.loc[subtlex_chr['character'] == block_df.loc[ix, 'critical_target']]['log_count'])\n",
    "        else:\n",
    "            block_df.loc[ix, 'critical_target_freq'] = 0\n",
    "        \n",
    "        # Get frequency of distractor character\n",
    "        if len(subtlex_chr.loc[subtlex_chr['character'] == block_df.loc[ix, 'critical_distractor']]):\n",
    "            block_df.loc[ix, 'critical_distractor_freq']\\\n",
    "              = np.float(subtlex_chr.loc[subtlex_chr['character'] == block_df.loc[ix, 'critical_distractor']]['log_count'])\n",
    "        else:\n",
    "            block_df.loc[ix, 'critical_distractor_freq'] = 0\n",
    "            \n",
    "        \n",
    "        # Get frequency of target word\n",
    "        if len(subtlex_word.loc[subtlex_word['word']==block_df.loc[ix,'critical_target_word']]):\n",
    "            block_df.loc[ix, 'critical_target_word_freq'] = np.float(\n",
    "                subtlex_word.loc[subtlex_word['word']==block_df.loc[ix,'critical_target_word']]['log_count']\n",
    "            )\n",
    "        \n",
    "        else:\n",
    "            block_df.loc[ix, 'critical_target_word_freq'] = 0\n",
    "            \n",
    "        \n",
    "        # Get frequency of distractor word\n",
    "        if len(subtlex_word.loc[subtlex_word['word']==block_df.loc[ix,'critical_distractor_word']]):    \n",
    "            block_df.loc[ix, 'critical_distractor_word_freq'] = np.float(\n",
    "                subtlex_word.loc[subtlex_word['word']==block_df.loc[ix,'critical_distractor_word']]['log_count']\n",
    "            )\n",
    "        \n",
    "        else:\n",
    "            block_df.loc[ix, 'critical_distractor_word_freq'] = 0\n",
    "        \n",
    "    # Readjust column ordering\n",
    "    cols = [\n",
    "        'sentence_order', 'full_sentence', 'critical_reached',\n",
    "        'critical_index', 'critical_target', 'critical_distractor',\n",
    "        'critical_target_word', 'critical_distractor_word', 'target_length',\n",
    "        'condition', 'condition_label', 'ortho_similarity', 'phono_similarity',\n",
    "        'critical_target_freq', 'critical_distractor_freq',\n",
    "        'critical_target_word_freq', 'critical_distractor_word_freq',\n",
    "        'block_acc', 'block_RT'\n",
    "    ]\n",
    "    block_df = block_df[cols]\n",
    "    \n",
    "    return block_df\n",
    "    \n",
    "    "
   ]
  },
  {
   "cell_type": "markdown",
   "metadata": {},
   "source": [
    "#### Process the data files"
   ]
  },
  {
   "cell_type": "code",
   "execution_count": 19,
   "metadata": {
    "collapsed": false
   },
   "outputs": [
    {
     "data": {
      "text/html": [
       "<b>Columns in participants:</b>"
      ],
      "text/plain": [
       "<IPython.core.display.HTML object>"
      ]
     },
     "metadata": {},
     "output_type": "display_data"
    },
    {
     "data": {
      "text/html": [
       "data,&nbsp;&nbsp;&nbsp;session_time,&nbsp;&nbsp;&nbsp;version,&nbsp;&nbsp;&nbsp;platform,&nbsp;&nbsp;&nbsp;hostname,&nbsp;&nbsp;&nbsp;psychopy_version,&nbsp;&nbsp;&nbsp;window_size,&nbsp;&nbsp;&nbsp;window_type"
      ],
      "text/plain": [
       "<IPython.core.display.HTML object>"
      ]
     },
     "metadata": {},
     "output_type": "display_data"
    }
   ],
   "source": [
    "count = 0\n",
    "for data_file in data_files:\n",
    "    count += 1\n",
    "\n",
    "    with data_file.open('r') as f:\n",
    "        csvreader = csv.reader(f, delimiter=',')\n",
    "        data = list(csvreader)\n",
    "    \n",
    "    trials_df    = load_csv_data(data)\n",
    "    \n",
    "    sentences_df = process_sentence_dataframe(trials_df)\n",
    "    \n",
    "    block_df     = process_block_dataframe(trials_df)\n",
    "    block_df     = process_condition_labels(block_df)\n",
    "    block_df     = process_stim_characteristics(block_df, sentences_df)\n",
    "    \n",
    "    combined_df = pd.DataFrame(\n",
    "        index=pd.Index(np.arange(1, len(block_df)+1), name='sentence_number'),\n",
    "        columns=['block', 'sentence']\n",
    "    )\n",
    "    \n",
    "    for row in combined_df.iterrows():\n",
    "        row[1]['block'] = block_df.loc[row[0]]\n",
    "        row[1]['sentence'] = sentences_df.loc[row[0]]\n",
    "        \n",
    "    ####################################################################################\n",
    "    # Add all data to participants dataframe\n",
    "    ####################################################################################\n",
    "    \n",
    "    # Get view of participant's row from participant dataframe\n",
    "    participant_row = participants.loc[np.int(trials_df.iloc[0]['participant'])]\n",
    "\n",
    "    # Add data to row\n",
    "    participant_row['data'] = combined_df\n",
    "    \n",
    "    # Set participant-level information within row\n",
    "    participant_row['session_time'] = '{} {}'.format(trials_df.iloc[0]['date'], trials_df.iloc[0]['session_start'])\n",
    "    \n",
    "    included_cols = ['version', 'platform', 'hostname', 'psychopy_version', 'window_size', 'window_type']\n",
    "    participant_row[included_cols] = trials_df.iloc[0][included_cols]\n",
    "    \n",
    "    dsp.clear_output(wait=True)\n",
    "    mdprint('Number of rows processed: {: >2}'.format(count))\n",
    "    \n",
    "dsp.clear_output(wait=True)\n",
    "mdprint('Columns in participants:', tag='b')\n",
    "mdprint(',&nbsp;&nbsp;&nbsp;'.join(list(participants.axes[1])))"
   ]
  },
  {
   "cell_type": "markdown",
   "metadata": {},
   "source": [
    "### Create flat dataframe with all participant data"
   ]
  },
  {
   "cell_type": "code",
   "execution_count": 20,
   "metadata": {
    "collapsed": false
   },
   "outputs": [
    {
     "name": "stdout",
     "output_type": "stream",
     "text": [
      "Finished processing data from 53 participants\n",
      "Number of rows processed:  40247\n",
      "Percentage of rows done:  100.00%\n",
      "\n"
     ]
    }
   ],
   "source": [
    "# The columns that identify participant, sentence number, and pair in the sentence\n",
    "index_columns = ['participant', 'sentence_number', 'sentence_index']\n",
    "\n",
    "# The columns that carry block-level data\n",
    "block_cols = list(participants.iloc[0]['data'].iloc[0]['block'].axes[0])\n",
    "block_cols.remove('full_sentence')\n",
    "\n",
    "# The columns that carry pair-level data\n",
    "sentence_cols = list(participants.iloc[0]['data'].iloc[1]['sentence'].axes[1])\n",
    "\n",
    "# Merged list of all the columns\n",
    "flat_columns = index_columns + block_cols + sentence_cols\n",
    "\n",
    "####################################################################################\n",
    "# Count the number of individual trials to pre-allocate the dataframe\n",
    "####################################################################################\n",
    "    \n",
    "allocate_count = 0\n",
    "\n",
    "# Iterate through each participant\n",
    "for p_id in participants.axes[0]:\n",
    "    \n",
    "    # Iterate through the sentences for each participant\n",
    "    for s_id in participants.loc[p_id]['data'].axes[0]:\n",
    "        \n",
    "        # Add the number of words seen in each sentence to the allocation count\n",
    "        allocate_count += len(participants.loc[p_id]['data'].loc[s_id]['sentence'].axes[0])\n",
    "\n",
    "# Pre-allocate the flat dataframe\n",
    "participants_flat = pd.DataFrame(\n",
    "    columns=flat_columns,\n",
    "    index=pd.Index(np.arange(allocate_count)),\n",
    "    dtype=np.int64\n",
    ")\n",
    "\n",
    "####################################################################################\n",
    "# Iterate through each item pair and add data to flat dataframe\n",
    "####################################################################################\n",
    "\n",
    "ix = 0\n",
    "\n",
    "# Iterate through each participant\n",
    "for p_id in participants.axes[0]:\n",
    "    \n",
    "    # Iterate through each sentence completed by the participant\n",
    "    for s_id in participants.loc[p_id]['data'].axes[0]:\n",
    "\n",
    "        # Collect the block- and sentence-level data all at once\n",
    "        # to avoid repeated called to the same row\n",
    "        block_data = participants.loc[p_id]['data'].loc[s_id]['block'][block_cols]\n",
    "        sentence_data = participants.loc[p_id]['data'].loc[s_id]['sentence']\n",
    "        \n",
    "        # Iterate through each item pair in each sentence\n",
    "        for s_ix in participants.loc[p_id]['data'].loc[s_id]['sentence'].axes[0]:\n",
    "\n",
    "            # Assign the index columns\n",
    "            participants_flat.iloc[ix]['participant'] = p_id\n",
    "            participants_flat.iloc[ix]['sentence_number'] = s_id\n",
    "            participants_flat.iloc[ix]['sentence_index'] = s_ix\n",
    "            \n",
    "            # Assign the block- and sentence-level data\n",
    "            participants_flat.iloc[ix][block_cols] = block_data\n",
    "            participants_flat.iloc[ix][sentence_cols] = sentence_data.iloc[s_ix][sentence_cols]\n",
    "                \n",
    "            ix += 1\n",
    "        \n",
    "            if ix % 50 == 0:\n",
    "                dsp.clear_output(wait=True)\n",
    "                print('Completed processing of participant #{}\\n'\n",
    "                      'Number of rows processed: {: >6}\\n'\n",
    "                      'Percentage of rows done:  {: >7.2%}'.format(p_id, ix, (ix / allocate_count))\n",
    "                )\n",
    "\n",
    "dsp.clear_output(wait=True)\n",
    "print('Finished processing data from {} participants\\n'\n",
    "      'Number of rows processed: {: >6}\\n'\n",
    "      'Percentage of rows done:  {: >7.2%}\\n'.format(participants_flat.iloc[ix-1]['participant']-100, ix, (ix / allocate_count))\n",
    ")"
   ]
  },
  {
   "cell_type": "markdown",
   "metadata": {},
   "source": [
    "### Output information about `participants_flat` dataframe"
   ]
  },
  {
   "cell_type": "code",
   "execution_count": 21,
   "metadata": {
    "collapsed": false
   },
   "outputs": [
    {
     "data": {
      "text/html": [
       "<b>Columns in participants_flat:</b>"
      ],
      "text/plain": [
       "<IPython.core.display.HTML object>"
      ]
     },
     "metadata": {},
     "output_type": "display_data"
    },
    {
     "data": {
      "text/html": [
       "&nbsp;&nbsp;&nbsp;&nbsp; participant,&nbsp;&nbsp;&nbsp;sentence_number,&nbsp;&nbsp;&nbsp;sentence_index,&nbsp;&nbsp;&nbsp;sentence_order,&nbsp;&nbsp;&nbsp;critical_reached,&nbsp;&nbsp;&nbsp;critical_index"
      ],
      "text/plain": [
       "<IPython.core.display.HTML object>"
      ]
     },
     "metadata": {},
     "output_type": "display_data"
    },
    {
     "data": {
      "text/html": [
       "&nbsp;&nbsp;&nbsp;&nbsp; critical_target,&nbsp;&nbsp;&nbsp;critical_distractor,&nbsp;&nbsp;&nbsp;critical_target_word,&nbsp;&nbsp;&nbsp;critical_distractor_word,&nbsp;&nbsp;&nbsp;target_length,&nbsp;&nbsp;&nbsp;condition"
      ],
      "text/plain": [
       "<IPython.core.display.HTML object>"
      ]
     },
     "metadata": {},
     "output_type": "display_data"
    },
    {
     "data": {
      "text/html": [
       "&nbsp;&nbsp;&nbsp;&nbsp; condition_label,&nbsp;&nbsp;&nbsp;ortho_similarity,&nbsp;&nbsp;&nbsp;phono_similarity,&nbsp;&nbsp;&nbsp;critical_target_freq,&nbsp;&nbsp;&nbsp;critical_distractor_freq,&nbsp;&nbsp;&nbsp;critical_target_word_freq"
      ],
      "text/plain": [
       "<IPython.core.display.HTML object>"
      ]
     },
     "metadata": {},
     "output_type": "display_data"
    },
    {
     "data": {
      "text/html": [
       "&nbsp;&nbsp;&nbsp;&nbsp; critical_distractor_word_freq,&nbsp;&nbsp;&nbsp;block_acc,&nbsp;&nbsp;&nbsp;block_RT,&nbsp;&nbsp;&nbsp;pair_distractor,&nbsp;&nbsp;&nbsp;pair_correct,&nbsp;&nbsp;&nbsp;target_pos"
      ],
      "text/plain": [
       "<IPython.core.display.HTML object>"
      ]
     },
     "metadata": {},
     "output_type": "display_data"
    },
    {
     "data": {
      "text/html": [
       "&nbsp;&nbsp;&nbsp;&nbsp; target_pos_verbose,&nbsp;&nbsp;&nbsp;resp,&nbsp;&nbsp;&nbsp;resp_verbose,&nbsp;&nbsp;&nbsp;resp_RT,&nbsp;&nbsp;&nbsp;resp_acc,&nbsp;&nbsp;&nbsp;prev_pos"
      ],
      "text/plain": [
       "<IPython.core.display.HTML object>"
      ]
     },
     "metadata": {},
     "output_type": "display_data"
    },
    {
     "data": {
      "text/html": [
       "&nbsp;&nbsp;&nbsp;&nbsp; prev_resp"
      ],
      "text/plain": [
       "<IPython.core.display.HTML object>"
      ]
     },
     "metadata": {},
     "output_type": "display_data"
    }
   ],
   "source": [
    "# Get column headers in dataframe\n",
    "cols = list(participants_flat.axes[1])\n",
    "\n",
    "# Process the columns for output formatting\n",
    "cols_split = list()\n",
    "curr = list()\n",
    "for i in range(1, len(cols)+1):\n",
    "    curr.append(cols[i-1])\n",
    "    \n",
    "    if i % 6 == 0:\n",
    "        cols_split.append(',&nbsp;&nbsp;&nbsp;'.join(curr))\n",
    "        curr = list()        \n",
    "cols_split.append(',&nbsp;&nbsp;&nbsp;'.join(curr))\n",
    "\n",
    "# Output the relevant information\n",
    "mdprint('Columns in participants_flat:', tag='b')\n",
    "for cols in cols_split:\n",
    "    mdprint('&nbsp;&nbsp;&nbsp;&nbsp;', cols)"
   ]
  },
  {
   "cell_type": "markdown",
   "metadata": {},
   "source": [
    "# Basic data filtering"
   ]
  },
  {
   "cell_type": "markdown",
   "metadata": {},
   "source": [
    "### Remove outlier responses"
   ]
  },
  {
   "cell_type": "code",
   "execution_count": 304,
   "metadata": {
    "collapsed": false
   },
   "outputs": [
    {
     "data": {
      "text/html": [
       "<b>Removal cutoff: 2824 <br><br>Full set: 3860 <br>Remaining after filtering: 3783 <br><br>Percentage removed: 1.99% <br><br>Percentage of original removed: 1.99%</b>"
      ],
      "text/plain": [
       "<IPython.core.display.HTML object>"
      ]
     },
     "metadata": {},
     "output_type": "display_data"
    }
   ],
   "source": [
    "# Create a dataframe containing only critical trials\n",
    "criticals_only = participants_flat.loc[participants_flat['sentence_index'] == participants_flat['critical_index']]\n",
    "\n",
    "# Number of unfiltered trials\n",
    "original_count_before_filtering = len(criticals_only)\n",
    "count_before_filtering = len(criticals_only)\n",
    "\n",
    "# Compute RT that is 3 STDs above the mean\n",
    "resp_cutoff = np.int(np.mean(criticals_only['resp_RT']) + np.std(criticals_only['resp_RT'])*3)\n",
    "\n",
    "# Remove trials faster than 3ms or slower than 3 STDs above mean\n",
    "criticals_only = criticals_only.loc[(criticals_only['resp_RT'] < resp_cutoff) & (criticals_only['resp_RT'] >= 300)]\n",
    "\n",
    "# Number of trials after filtering\n",
    "count_after_filtering = len(criticals_only)\n",
    "\n",
    "# Convert fields to integers\n",
    "numeric_cols = ['resp_RT', 'resp_acc', 'target_pos', 'prev_pos', 'target_length', 'condition']\n",
    "criticals_only[numeric_cols] = criticals_only[numeric_cols].astype(np.int16)\n",
    "\n",
    "mdprint(\n",
    "    'Removal cutoff:', resp_cutoff,\n",
    "    '<br><br>Full set:', count_before_filtering,\n",
    "    '<br>Remaining after filtering:', count_after_filtering,\n",
    "    '<br><br>Percentage removed: {:.2%}'.format(\n",
    "        (count_before_filtering - count_after_filtering) / count_before_filtering\n",
    "    ),\n",
    "    '<br><br>Percentage of original removed: {:.2%}'.format(\n",
    "        (original_count_before_filtering - count_after_filtering) / original_count_before_filtering\n",
    "    ),\n",
    "    tag='b'\n",
    ")"
   ]
  },
  {
   "cell_type": "markdown",
   "metadata": {},
   "source": [
    "### Filter out sentences with low performance"
   ]
  },
  {
   "cell_type": "code",
   "execution_count": 305,
   "metadata": {
    "collapsed": false
   },
   "outputs": [
    {
     "data": {
      "text/html": [
       "<b>Removal cutoff: 36 <br><br>Full set: 96 <br>Remaining after filtering: 91 <br>Percentage removed: 5.21% <br><br>Full set (trials count): 3783 <br>Remaining after filtering: 3717 <br>Percentage removed: 1.74% <br><br>Percentage of original removed: 1.71%</b>"
      ],
      "text/plain": [
       "<IPython.core.display.HTML object>"
      ]
     },
     "metadata": {},
     "output_type": "display_data"
    }
   ],
   "source": [
    "# Get first pair from each sentence\n",
    "sentences = participants_flat.loc[participants_flat['sentence_index'] == 0]\n",
    "\n",
    "# Multiply relevant column by 100 to make averages easier to interpret\n",
    "sentences['critical_reached'] = sentences['critical_reached'].astype(np.int) * 100\n",
    "\n",
    "# Get mean critical_reached and block_acc by participant\n",
    "sentences = sentences[['sentence_number', 'critical_reached', 'block_acc']].groupby('sentence_number').mean()\n",
    "\n",
    "# Counts before filtering\n",
    "sentences_before_filtering = len(sentences)\n",
    "trials_before_filtering = len(criticals_only)\n",
    "\n",
    "# Eliminate participants with block performance less than two STDs below mean\n",
    "acc_cutoff = np.int(np.mean(sentences['critical_reached']) - np.std(sentences['critical_reached']) * 2)\n",
    "eliminate = sentences.loc[sentences['critical_reached'] < acc_cutoff]\n",
    "\n",
    "# Counts after filtering\n",
    "sentences_after_filtering = sentences_before_filtering - len(eliminate)\n",
    "trials_after_filtering = len(criticals_only.loc[~criticals_only['sentence_number'].isin(eliminate.index)])\n",
    "\n",
    "mdprint(\n",
    "    'Removal cutoff:', acc_cutoff,\n",
    "    '<br><br>Full set:', sentences_before_filtering,\n",
    "    '<br>Remaining after filtering:', sentences_after_filtering,\n",
    "    '<br>Percentage removed: {:.2%}'.format(\n",
    "        (sentences_before_filtering - sentences_after_filtering) / sentences_before_filtering\n",
    "    ),\n",
    "    '<br><br>Full set (trials count):', trials_before_filtering,\n",
    "    '<br>Remaining after filtering:', trials_after_filtering,\n",
    "    '<br>Percentage removed: {:.2%}'.format(\n",
    "        (trials_before_filtering - trials_after_filtering) / trials_before_filtering\n",
    "    ),\n",
    "    '<br><br>Percentage of original removed: {:.2%}'.format(\n",
    "        (trials_before_filtering - trials_after_filtering) / original_count_before_filtering\n",
    "    ),\n",
    "    tag='b'\n",
    ")\n",
    "\n",
    "criticals_only = criticals_only.loc[~criticals_only['sentence_number'].isin(eliminate.index)]"
   ]
  },
  {
   "cell_type": "markdown",
   "metadata": {},
   "source": [
    "### Filter out participants with poor average block performance"
   ]
  },
  {
   "cell_type": "code",
   "execution_count": 306,
   "metadata": {
    "collapsed": false
   },
   "outputs": [
    {
     "data": {
      "text/html": [
       "<b>Removal cutoff: 61 <br><br>Eliminated participants: 120, 122, 123 <br><br>Full set: 53 <br>Remaining after filtering: 50 <br>Percentage removed: 5.66% <br><br>Full set (trials count): 3717 <br>Remaining after filtering: 3567 <br>Percentage removed: 4.04% <br><br>Percentage of original removed: 3.89%</b>"
      ],
      "text/plain": [
       "<IPython.core.display.HTML object>"
      ]
     },
     "metadata": {},
     "output_type": "display_data"
    }
   ],
   "source": [
    "# Get first pair from each sentence\n",
    "blocks = participants_flat.loc[\n",
    "    (participants_flat['sentence_index'] == 0) &\n",
    "    (participants_flat['sentence_number'].isin(criticals_only['sentence_number']))\n",
    "]\n",
    "\n",
    "sentence_count = len(pd.unique(blocks['sentence_number']))\n",
    "\n",
    "blocks[['critical_reached', 'block_acc']] = blocks[['critical_reached', 'block_acc']].astype(np.int)\n",
    "\n",
    "# Get mean critical_reached and block_acc by participant\n",
    "blocks = blocks[['participant', 'critical_reached', 'block_acc']].groupby('participant').sum()\n",
    "\n",
    "# Compute percentage for each category\n",
    "blocks['critical_reached'] = blocks['critical_reached'] / sentence_count * 100\n",
    "blocks['block_acc'] = blocks['block_acc'] / sentence_count * 100\n",
    "\n",
    "# Counts before filtering\n",
    "participants_before_filtering = len(blocks)\n",
    "trials_before_filtering = len(criticals_only)\n",
    "\n",
    "# Eliminate participants with block performance less than two STDs below mean\n",
    "acc_cutoff = np.int(np.mean(blocks['critical_reached']) - np.std(blocks['critical_reached']) * 2)\n",
    "eliminate = blocks.loc[blocks['critical_reached'] < acc_cutoff]\n",
    "\n",
    "# Counts after filtering\n",
    "participants_after_filtering = participants_before_filtering - len(eliminate)\n",
    "trials_after_filtering = len(criticals_only.loc[~criticals_only['participant'].isin(eliminate.index)])\n",
    "\n",
    "mdprint(\n",
    "    'Removal cutoff:', acc_cutoff,\n",
    "    '<br><br>Eliminated participants:', ', '.join([str(x) for x in eliminate.index]),\n",
    "    '<br><br>Full set:', participants_before_filtering,\n",
    "    '<br>Remaining after filtering:', participants_after_filtering,\n",
    "    '<br>Percentage removed: {:.2%}'.format(\n",
    "        (participants_before_filtering - participants_after_filtering) / participants_before_filtering\n",
    "    ),\n",
    "    '<br><br>Full set (trials count):', trials_before_filtering,\n",
    "    '<br>Remaining after filtering:', trials_after_filtering,\n",
    "    '<br>Percentage removed: {:.2%}'.format(\n",
    "        (trials_before_filtering - trials_after_filtering) / trials_before_filtering\n",
    "    ),\n",
    "    '<br><br>Percentage of original removed: {:.2%}'.format(\n",
    "        (trials_before_filtering - trials_after_filtering) / original_count_before_filtering\n",
    "    ),\n",
    "    tag='b'\n",
    ")\n",
    "\n",
    "criticals_only = criticals_only.loc[~criticals_only['participant'].isin(eliminate.index)]"
   ]
  },
  {
   "cell_type": "markdown",
   "metadata": {},
   "source": [
    "### Summary of Filtering"
   ]
  },
  {
   "cell_type": "code",
   "execution_count": 307,
   "metadata": {
    "collapsed": false,
    "scrolled": true
   },
   "outputs": [
    {
     "data": {
      "text/html": [
       "<h3>Original number of trials: 3860 <br>Remaining after filtering: 3567 <br><br>Percentage removed: 7.59%</h3>"
      ],
      "text/plain": [
       "<IPython.core.display.HTML object>"
      ]
     },
     "metadata": {},
     "output_type": "display_data"
    }
   ],
   "source": [
    "mdprint(\n",
    "    'Original number of trials:', original_count_before_filtering,\n",
    "    '<br>Remaining after filtering:', len(criticals_only),\n",
    "    '<br><br>Percentage removed: {:.2%}'.format(\n",
    "        (original_count_before_filtering - len(criticals_only)) / original_count_before_filtering\n",
    "    ),\n",
    "    tag='h3'\n",
    ")"
   ]
  },
  {
   "cell_type": "markdown",
   "metadata": {},
   "source": [
    "---"
   ]
  },
  {
   "cell_type": "markdown",
   "metadata": {},
   "source": [
    "# Compute descriptive statistics"
   ]
  },
  {
   "cell_type": "markdown",
   "metadata": {},
   "source": [
    "### Add verbose column for condition"
   ]
  },
  {
   "cell_type": "code",
   "execution_count": 308,
   "metadata": {
    "collapsed": false
   },
   "outputs": [],
   "source": [
    "condition_labels = {\n",
    "    1: 'O+P+',\n",
    "    2: 'O+P-',\n",
    "    3: 'O-P+',\n",
    "    4: 'O-P-'\n",
    "}\n",
    "\n",
    "criticals_only['condition_verbose'] = criticals_only.apply(\n",
    "    lambda row: condition_labels[row['condition']], axis=1\n",
    ")"
   ]
  },
  {
   "cell_type": "markdown",
   "metadata": {},
   "source": [
    "### Distribution of critical trial RTs"
   ]
  },
  {
   "cell_type": "code",
   "execution_count": 309,
   "metadata": {
    "collapsed": false
   },
   "outputs": [
    {
     "data": {
      "image/png": "[encoded data removed]",
      "text/plain": [
       "<matplotlib.figure.Figure at 0x11cdabd68>"
      ]
     },
     "metadata": {},
     "output_type": "display_data"
    }
   ],
   "source": [
    "figsize(10,6)\n",
    "\n",
    "p = sns.distplot(criticals_only['resp_RT'], bins=20)\n",
    "fig = p.get_figure()\n",
    "fig.savefig('descriptives/resp_RT_distribution.png')"
   ]
  },
  {
   "cell_type": "markdown",
   "metadata": {},
   "source": [
    "### Log distribution of critical trial RTs"
   ]
  },
  {
   "cell_type": "code",
   "execution_count": 310,
   "metadata": {
    "collapsed": false
   },
   "outputs": [
    {
     "data": {
      "image/png": "[encoded data removed]",
      "text/plain": [
       "<matplotlib.figure.Figure at 0x11d31c7b8>"
      ]
     },
     "metadata": {},
     "output_type": "display_data"
    }
   ],
   "source": [
    "p = sns.distplot(np.log(criticals_only['resp_RT']))\n",
    "fig = p.get_figure()\n",
    "fig.savefig('descriptives/log_resp_RT.png')"
   ]
  },
  {
   "cell_type": "markdown",
   "metadata": {},
   "source": [
    "### Define function to compute performance"
   ]
  },
  {
   "cell_type": "code",
   "execution_count": 311,
   "metadata": {
    "collapsed": false
   },
   "outputs": [],
   "source": [
    "def compute_performance(performance_subset, index_by, count_which):\n",
    "    \n",
    "    # Get individual items\n",
    "    items = pd.unique(performance_subset[index_by])\n",
    "    \n",
    "    # Index the subset by `index_by`, including columsn block accuracy and critical reached\n",
    "    performance = pd.DataFrame(\n",
    "        columns=['block_acc', 'critical_reached'],\n",
    "        index=pd.Index(items, name=index_by),\n",
    "        dtype=np.float64\n",
    "    )\n",
    "    \n",
    "    # Go through items to get averages\n",
    "    for item in items:\n",
    "        completed_sentences = performance_subset.loc[\n",
    "            (performance_subset[index_by] == item) &\n",
    "            (performance_subset['block_acc'] == 1)\n",
    "        ][count_which]\n",
    "        \n",
    "        reached_criticals = performance_subset.loc[\n",
    "            (performance_subset[index_by] == item) &\n",
    "            (performance_subset['critical_reached'] == 1)\n",
    "        ][count_which]\n",
    "        \n",
    "        performance.loc[item]['block_acc'] = (\n",
    "            completed_sentences.count()\n",
    "            / len(pd.unique(performance_subset[count_which])) * 100\n",
    "        )\n",
    "        \n",
    "        performance.loc[item]['critical_reached'] = (\n",
    "            reached_criticals.count()\n",
    "            / len(pd.unique(performance_subset[count_which])) * 100\n",
    "        )\n",
    "    \n",
    "    return performance\n",
    "\n",
    "# Get the first word in each sentence to extract the sentence-level information\n",
    "# filtered_performance = participants_flat.loc[\n",
    "#     (participants_flat['sentence_index'] == 0),\n",
    "#     ['participant', 'sentence_number', 'block_acc', 'critical_reached', 'sentence_index']\n",
    "# ]\n",
    "\n",
    "filtered_performance = participants_flat.loc[\n",
    "    (participants_flat['participant'].isin(criticals_only['participant'])) &\n",
    "    (participants_flat['sentence_number'].isin(criticals_only['sentence_number'])) &\n",
    "    (participants_flat['sentence_index'] == 0)\n",
    "][['participant', 'sentence_number', 'block_acc', 'critical_reached', 'sentence_index']]\n",
    "\n",
    "# sorted(filtered_performance.groupby('participant').sum()['critical_reached'])"
   ]
  },
  {
   "cell_type": "markdown",
   "metadata": {},
   "source": [
    "### Compute participant perfomance descriptives"
   ]
  },
  {
   "cell_type": "code",
   "execution_count": 312,
   "metadata": {
    "collapsed": false
   },
   "outputs": [
    {
     "data": {
      "text/html": [
       "<div>\n",
       "<style>\n",
       "    .dataframe thead tr:only-child th {\n",
       "        text-align: right;\n",
       "    }\n",
       "\n",
       "    .dataframe thead th {\n",
       "        text-align: left;\n",
       "    }\n",
       "\n",
       "    .dataframe tbody tr th {\n",
       "        vertical-align: top;\n",
       "    }\n",
       "</style>\n",
       "<table border=\"1\" class=\"dataframe\">\n",
       "  <thead>\n",
       "    <tr style=\"text-align: right;\">\n",
       "      <th></th>\n",
       "      <th>block_acc</th>\n",
       "      <th>critical_reached</th>\n",
       "    </tr>\n",
       "  </thead>\n",
       "  <tbody>\n",
       "    <tr>\n",
       "      <th>count</th>\n",
       "      <td>50.000000</td>\n",
       "      <td>50.000000</td>\n",
       "    </tr>\n",
       "    <tr>\n",
       "      <th>mean</th>\n",
       "      <td>76.263736</td>\n",
       "      <td>80.065934</td>\n",
       "    </tr>\n",
       "    <tr>\n",
       "      <th>std</th>\n",
       "      <td>7.048648</td>\n",
       "      <td>6.295153</td>\n",
       "    </tr>\n",
       "    <tr>\n",
       "      <th>min</th>\n",
       "      <td>59.340659</td>\n",
       "      <td>62.637363</td>\n",
       "    </tr>\n",
       "    <tr>\n",
       "      <th>25%</th>\n",
       "      <td>71.428571</td>\n",
       "      <td>75.824176</td>\n",
       "    </tr>\n",
       "    <tr>\n",
       "      <th>50%</th>\n",
       "      <td>75.824176</td>\n",
       "      <td>80.219780</td>\n",
       "    </tr>\n",
       "    <tr>\n",
       "      <th>75%</th>\n",
       "      <td>81.318681</td>\n",
       "      <td>84.615385</td>\n",
       "    </tr>\n",
       "    <tr>\n",
       "      <th>max</th>\n",
       "      <td>90.109890</td>\n",
       "      <td>91.208791</td>\n",
       "    </tr>\n",
       "  </tbody>\n",
       "</table>\n",
       "</div>"
      ],
      "text/plain": [
       "       block_acc  critical_reached\n",
       "count  50.000000         50.000000\n",
       "mean   76.263736         80.065934\n",
       "std     7.048648          6.295153\n",
       "min    59.340659         62.637363\n",
       "25%    71.428571         75.824176\n",
       "50%    75.824176         80.219780\n",
       "75%    81.318681         84.615385\n",
       "max    90.109890         91.208791"
      ]
     },
     "metadata": {},
     "output_type": "display_data"
    },
    {
     "data": {
      "image/png": "[encoded data removed]",
      "text/plain": [
       "<matplotlib.figure.Figure at 0x12624b198>"
      ]
     },
     "metadata": {},
     "output_type": "display_data"
    }
   ],
   "source": [
    "participant_performance = compute_performance(filtered_performance, 'participant', 'sentence_number')\n",
    "\n",
    "display(participant_performance[['block_acc', 'critical_reached']].describe())\n",
    "\n",
    "p = sns.distplot(participant_performance['critical_reached'])\n",
    "fig = p.get_figure()\n",
    "fig.savefig('descriptives/participant_performance.png')"
   ]
  },
  {
   "cell_type": "markdown",
   "metadata": {},
   "source": [
    "### Compute sentence performance descriptives"
   ]
  },
  {
   "cell_type": "code",
   "execution_count": 313,
   "metadata": {
    "collapsed": false
   },
   "outputs": [
    {
     "data": {
      "text/html": [
       "<div>\n",
       "<style>\n",
       "    .dataframe thead tr:only-child th {\n",
       "        text-align: right;\n",
       "    }\n",
       "\n",
       "    .dataframe thead th {\n",
       "        text-align: left;\n",
       "    }\n",
       "\n",
       "    .dataframe tbody tr th {\n",
       "        vertical-align: top;\n",
       "    }\n",
       "</style>\n",
       "<table border=\"1\" class=\"dataframe\">\n",
       "  <thead>\n",
       "    <tr style=\"text-align: right;\">\n",
       "      <th></th>\n",
       "      <th>block_acc</th>\n",
       "      <th>critical_reached</th>\n",
       "    </tr>\n",
       "  </thead>\n",
       "  <tbody>\n",
       "    <tr>\n",
       "      <th>count</th>\n",
       "      <td>91.000000</td>\n",
       "      <td>91.000000</td>\n",
       "    </tr>\n",
       "    <tr>\n",
       "      <th>mean</th>\n",
       "      <td>76.263736</td>\n",
       "      <td>80.065934</td>\n",
       "    </tr>\n",
       "    <tr>\n",
       "      <th>std</th>\n",
       "      <td>17.158629</td>\n",
       "      <td>16.084362</td>\n",
       "    </tr>\n",
       "    <tr>\n",
       "      <th>min</th>\n",
       "      <td>32.000000</td>\n",
       "      <td>36.000000</td>\n",
       "    </tr>\n",
       "    <tr>\n",
       "      <th>25%</th>\n",
       "      <td>68.000000</td>\n",
       "      <td>72.000000</td>\n",
       "    </tr>\n",
       "    <tr>\n",
       "      <th>50%</th>\n",
       "      <td>82.000000</td>\n",
       "      <td>84.000000</td>\n",
       "    </tr>\n",
       "    <tr>\n",
       "      <th>75%</th>\n",
       "      <td>88.000000</td>\n",
       "      <td>91.000000</td>\n",
       "    </tr>\n",
       "    <tr>\n",
       "      <th>max</th>\n",
       "      <td>100.000000</td>\n",
       "      <td>100.000000</td>\n",
       "    </tr>\n",
       "  </tbody>\n",
       "</table>\n",
       "</div>"
      ],
      "text/plain": [
       "        block_acc  critical_reached\n",
       "count   91.000000         91.000000\n",
       "mean    76.263736         80.065934\n",
       "std     17.158629         16.084362\n",
       "min     32.000000         36.000000\n",
       "25%     68.000000         72.000000\n",
       "50%     82.000000         84.000000\n",
       "75%     88.000000         91.000000\n",
       "max    100.000000        100.000000"
      ]
     },
     "metadata": {},
     "output_type": "display_data"
    },
    {
     "data": {
      "image/png": "[encoded data removed]",
      "text/plain": [
       "<matplotlib.figure.Figure at 0x1251f3780>"
      ]
     },
     "metadata": {},
     "output_type": "display_data"
    }
   ],
   "source": [
    "sentence_performance = compute_performance(filtered_performance, 'sentence_number', 'participant')\n",
    "\n",
    "display(sentence_performance[['block_acc', 'critical_reached']].describe())\n",
    "\n",
    "p = sns.distplot(sentence_performance['critical_reached'])\n",
    "fig = p.get_figure()\n",
    "fig.savefig('descriptives/sentence_performance.png')"
   ]
  },
  {
   "cell_type": "markdown",
   "metadata": {},
   "source": [
    "### Compute performance, grouped by condition"
   ]
  },
  {
   "cell_type": "code",
   "execution_count": 314,
   "metadata": {
    "collapsed": false
   },
   "outputs": [
    {
     "data": {
      "text/html": [
       "<div>\n",
       "<style>\n",
       "    .dataframe thead tr:only-child th {\n",
       "        text-align: right;\n",
       "    }\n",
       "\n",
       "    .dataframe thead th {\n",
       "        text-align: left;\n",
       "    }\n",
       "\n",
       "    .dataframe tbody tr th {\n",
       "        vertical-align: top;\n",
       "    }\n",
       "</style>\n",
       "<table border=\"1\" class=\"dataframe\">\n",
       "  <thead>\n",
       "    <tr>\n",
       "      <th></th>\n",
       "      <th colspan=\"8\" halign=\"left\">resp_RT</th>\n",
       "      <th colspan=\"8\" halign=\"left\">resp_acc</th>\n",
       "    </tr>\n",
       "    <tr>\n",
       "      <th></th>\n",
       "      <th>count</th>\n",
       "      <th>mean</th>\n",
       "      <th>std</th>\n",
       "      <th>min</th>\n",
       "      <th>25%</th>\n",
       "      <th>50%</th>\n",
       "      <th>75%</th>\n",
       "      <th>max</th>\n",
       "      <th>count</th>\n",
       "      <th>mean</th>\n",
       "      <th>std</th>\n",
       "      <th>min</th>\n",
       "      <th>25%</th>\n",
       "      <th>50%</th>\n",
       "      <th>75%</th>\n",
       "      <th>max</th>\n",
       "    </tr>\n",
       "    <tr>\n",
       "      <th>condition</th>\n",
       "      <th></th>\n",
       "      <th></th>\n",
       "      <th></th>\n",
       "      <th></th>\n",
       "      <th></th>\n",
       "      <th></th>\n",
       "      <th></th>\n",
       "      <th></th>\n",
       "      <th></th>\n",
       "      <th></th>\n",
       "      <th></th>\n",
       "      <th></th>\n",
       "      <th></th>\n",
       "      <th></th>\n",
       "      <th></th>\n",
       "      <th></th>\n",
       "    </tr>\n",
       "  </thead>\n",
       "  <tbody>\n",
       "    <tr>\n",
       "      <th>1</th>\n",
       "      <td>755.0</td>\n",
       "      <td>1103.866225</td>\n",
       "      <td>439.007401</td>\n",
       "      <td>400.0</td>\n",
       "      <td>800.5</td>\n",
       "      <td>1011.0</td>\n",
       "      <td>1326.50</td>\n",
       "      <td>2758.0</td>\n",
       "      <td>755.0</td>\n",
       "      <td>0.982781</td>\n",
       "      <td>0.130171</td>\n",
       "      <td>0.0</td>\n",
       "      <td>1.0</td>\n",
       "      <td>1.0</td>\n",
       "      <td>1.0</td>\n",
       "      <td>1.0</td>\n",
       "    </tr>\n",
       "    <tr>\n",
       "      <th>2</th>\n",
       "      <td>948.0</td>\n",
       "      <td>1087.112869</td>\n",
       "      <td>425.672288</td>\n",
       "      <td>380.0</td>\n",
       "      <td>779.0</td>\n",
       "      <td>991.5</td>\n",
       "      <td>1285.25</td>\n",
       "      <td>2803.0</td>\n",
       "      <td>948.0</td>\n",
       "      <td>0.987342</td>\n",
       "      <td>0.111853</td>\n",
       "      <td>0.0</td>\n",
       "      <td>1.0</td>\n",
       "      <td>1.0</td>\n",
       "      <td>1.0</td>\n",
       "      <td>1.0</td>\n",
       "    </tr>\n",
       "    <tr>\n",
       "      <th>3</th>\n",
       "      <td>927.0</td>\n",
       "      <td>970.663430</td>\n",
       "      <td>390.551893</td>\n",
       "      <td>357.0</td>\n",
       "      <td>695.0</td>\n",
       "      <td>885.0</td>\n",
       "      <td>1138.00</td>\n",
       "      <td>2694.0</td>\n",
       "      <td>927.0</td>\n",
       "      <td>0.989213</td>\n",
       "      <td>0.103357</td>\n",
       "      <td>0.0</td>\n",
       "      <td>1.0</td>\n",
       "      <td>1.0</td>\n",
       "      <td>1.0</td>\n",
       "      <td>1.0</td>\n",
       "    </tr>\n",
       "    <tr>\n",
       "      <th>4</th>\n",
       "      <td>937.0</td>\n",
       "      <td>955.875133</td>\n",
       "      <td>375.490623</td>\n",
       "      <td>379.0</td>\n",
       "      <td>695.0</td>\n",
       "      <td>884.0</td>\n",
       "      <td>1115.00</td>\n",
       "      <td>2820.0</td>\n",
       "      <td>937.0</td>\n",
       "      <td>0.994664</td>\n",
       "      <td>0.072893</td>\n",
       "      <td>0.0</td>\n",
       "      <td>1.0</td>\n",
       "      <td>1.0</td>\n",
       "      <td>1.0</td>\n",
       "      <td>1.0</td>\n",
       "    </tr>\n",
       "  </tbody>\n",
       "</table>\n",
       "</div>"
      ],
      "text/plain": [
       "          resp_RT                                                          \\\n",
       "            count         mean         std    min    25%     50%      75%   \n",
       "condition                                                                   \n",
       "1           755.0  1103.866225  439.007401  400.0  800.5  1011.0  1326.50   \n",
       "2           948.0  1087.112869  425.672288  380.0  779.0   991.5  1285.25   \n",
       "3           927.0   970.663430  390.551893  357.0  695.0   885.0  1138.00   \n",
       "4           937.0   955.875133  375.490623  379.0  695.0   884.0  1115.00   \n",
       "\n",
       "                  resp_acc                                               \n",
       "              max    count      mean       std  min  25%  50%  75%  max  \n",
       "condition                                                                \n",
       "1          2758.0    755.0  0.982781  0.130171  0.0  1.0  1.0  1.0  1.0  \n",
       "2          2803.0    948.0  0.987342  0.111853  0.0  1.0  1.0  1.0  1.0  \n",
       "3          2694.0    927.0  0.989213  0.103357  0.0  1.0  1.0  1.0  1.0  \n",
       "4          2820.0    937.0  0.994664  0.072893  0.0  1.0  1.0  1.0  1.0  "
      ]
     },
     "metadata": {},
     "output_type": "display_data"
    },
    {
     "data": {
      "image/png": "[encoded data removed]",
      "text/plain": [
       "<matplotlib.figure.Figure at 0x1260bd860>"
      ]
     },
     "metadata": {},
     "output_type": "display_data"
    }
   ],
   "source": [
    "condition_groups = criticals_only[['condition', 'resp_RT', 'resp_acc']].groupby('condition').describe()\n",
    "display(condition_groups)\n",
    "\n",
    "p = sns.barplot(x='condition_verbose', y='resp_RT', order=['O+P+', 'O+P-', 'O-P+', 'O-P-'], data=criticals_only)\n",
    "fig = p.get_figure()\n",
    "fig.savefig('descriptives/resp_RT_by_condition.png')"
   ]
  },
  {
   "cell_type": "markdown",
   "metadata": {},
   "source": [
    "---\n",
    "\n",
    "# Data analysis"
   ]
  },
  {
   "cell_type": "markdown",
   "metadata": {},
   "source": [
    "### Compute the inverse RT"
   ]
  },
  {
   "cell_type": "code",
   "execution_count": 315,
   "metadata": {
    "collapsed": false
   },
   "outputs": [
    {
     "data": {
      "image/png": "[encoded data removed]",
      "text/plain": [
       "<matplotlib.figure.Figure at 0x12a3c4be0>"
      ]
     },
     "metadata": {},
     "output_type": "display_data"
    }
   ],
   "source": [
    "criticals_only['inv_RT'] = -1000/criticals_only['resp_RT']\n",
    "\n",
    "p = sns.distplot(criticals_only['inv_RT'])\n",
    "fig = p.get_figure()\n",
    "fig.savefig('descriptives/inverse_resp_RT.png')"
   ]
  },
  {
   "cell_type": "markdown",
   "metadata": {},
   "source": [
    "### Center the categories"
   ]
  },
  {
   "cell_type": "code",
   "execution_count": 316,
   "metadata": {
    "collapsed": false
   },
   "outputs": [
    {
     "data": {
      "text/html": [
       "<div>\n",
       "<style>\n",
       "    .dataframe thead tr:only-child th {\n",
       "        text-align: right;\n",
       "    }\n",
       "\n",
       "    .dataframe thead th {\n",
       "        text-align: left;\n",
       "    }\n",
       "\n",
       "    .dataframe tbody tr th {\n",
       "        vertical-align: top;\n",
       "    }\n",
       "</style>\n",
       "<table border=\"1\" class=\"dataframe\">\n",
       "  <thead>\n",
       "    <tr style=\"text-align: right;\">\n",
       "      <th></th>\n",
       "      <th>inv_RT</th>\n",
       "      <th>condition</th>\n",
       "      <th>ortho_center</th>\n",
       "      <th>phono_center</th>\n",
       "    </tr>\n",
       "  </thead>\n",
       "  <tbody>\n",
       "    <tr>\n",
       "      <th>10</th>\n",
       "      <td>-1.531394</td>\n",
       "      <td>3</td>\n",
       "      <td>-0.5</td>\n",
       "      <td>0.5</td>\n",
       "    </tr>\n",
       "    <tr>\n",
       "      <th>21</th>\n",
       "      <td>-1.757469</td>\n",
       "      <td>4</td>\n",
       "      <td>-0.5</td>\n",
       "      <td>-0.5</td>\n",
       "    </tr>\n",
       "    <tr>\n",
       "      <th>26</th>\n",
       "      <td>-0.593824</td>\n",
       "      <td>2</td>\n",
       "      <td>0.5</td>\n",
       "      <td>-0.5</td>\n",
       "    </tr>\n",
       "    <tr>\n",
       "      <th>57</th>\n",
       "      <td>-1.356852</td>\n",
       "      <td>3</td>\n",
       "      <td>-0.5</td>\n",
       "      <td>0.5</td>\n",
       "    </tr>\n",
       "    <tr>\n",
       "      <th>64</th>\n",
       "      <td>-1.976285</td>\n",
       "      <td>4</td>\n",
       "      <td>-0.5</td>\n",
       "      <td>-0.5</td>\n",
       "    </tr>\n",
       "    <tr>\n",
       "      <th>73</th>\n",
       "      <td>-0.896057</td>\n",
       "      <td>2</td>\n",
       "      <td>0.5</td>\n",
       "      <td>-0.5</td>\n",
       "    </tr>\n",
       "    <tr>\n",
       "      <th>93</th>\n",
       "      <td>-0.650618</td>\n",
       "      <td>1</td>\n",
       "      <td>0.5</td>\n",
       "      <td>0.5</td>\n",
       "    </tr>\n",
       "    <tr>\n",
       "      <th>100</th>\n",
       "      <td>-1.828154</td>\n",
       "      <td>2</td>\n",
       "      <td>0.5</td>\n",
       "      <td>-0.5</td>\n",
       "    </tr>\n",
       "    <tr>\n",
       "      <th>107</th>\n",
       "      <td>-1.283697</td>\n",
       "      <td>4</td>\n",
       "      <td>-0.5</td>\n",
       "      <td>-0.5</td>\n",
       "    </tr>\n",
       "    <tr>\n",
       "      <th>125</th>\n",
       "      <td>-2.155172</td>\n",
       "      <td>3</td>\n",
       "      <td>-0.5</td>\n",
       "      <td>0.5</td>\n",
       "    </tr>\n",
       "  </tbody>\n",
       "</table>\n",
       "</div>"
      ],
      "text/plain": [
       "       inv_RT  condition  ortho_center  phono_center\n",
       "10  -1.531394          3          -0.5           0.5\n",
       "21  -1.757469          4          -0.5          -0.5\n",
       "26  -0.593824          2           0.5          -0.5\n",
       "57  -1.356852          3          -0.5           0.5\n",
       "64  -1.976285          4          -0.5          -0.5\n",
       "73  -0.896057          2           0.5          -0.5\n",
       "93  -0.650618          1           0.5           0.5\n",
       "100 -1.828154          2           0.5          -0.5\n",
       "107 -1.283697          4          -0.5          -0.5\n",
       "125 -2.155172          3          -0.5           0.5"
      ]
     },
     "metadata": {},
     "output_type": "display_data"
    }
   ],
   "source": [
    "criticals_only['ortho_center'] = criticals_only.apply(lambda row: (-1/2 if row['ortho_similarity'] == 0 else 1/2), axis=1)\n",
    "criticals_only['phono_center'] = criticals_only.apply(lambda row: (-1/2 if row['phono_similarity'] == 0 else 1/2), axis=1)\n",
    "\n",
    "display(criticals_only[:10][['inv_RT', 'condition', 'ortho_center', 'phono_center']])\n"
   ]
  },
  {
   "cell_type": "markdown",
   "metadata": {},
   "source": [
    "---\n",
    "### Write filtered data to file"
   ]
  },
  {
   "cell_type": "code",
   "execution_count": 317,
   "metadata": {
    "collapsed": false
   },
   "outputs": [],
   "source": [
    "criticals_only.to_csv('output/criticals_only-filtered.csv', sep='\\t')"
   ]
  },
  {
   "cell_type": "raw",
   "metadata": {
    "collapsed": false
   },
   "source": [
    "#md = smf.mixedlm(\n",
    "#    \"inv_RT ~ \"\n",
    "#    \"ortho_center*phono_center +\"\n",
    "#    \"(1 + ortho_center*phono_center|C(participant))\",\n",
    "#     \"(1 + (ortho_center*phono_center):C(sentence_number))\",\n",
    "#    criticals_only, groups=criticals_only[['participant']])\n",
    "#mdf = md.fit()\n",
    "#mdf.summary()"
   ]
  },
  {
   "cell_type": "markdown",
   "metadata": {},
   "source": [
    "---"
   ]
  }
 ],
 "metadata": {
  "kernelspec": {
   "display_name": "Python 3",
   "language": "python",
   "name": "python3"
  },
  "language_info": {
   "codemirror_mode": {
    "name": "ipython",
    "version": 3
   },
   "file_extension": ".py",
   "mimetype": "text/x-python",
   "name": "python",
   "nbconvert_exporter": "python",
   "pygments_lexer": "ipython3",
   "version": "3.6.0"
  }
 },
 "nbformat": 4,
 "nbformat_minor": 2
}
