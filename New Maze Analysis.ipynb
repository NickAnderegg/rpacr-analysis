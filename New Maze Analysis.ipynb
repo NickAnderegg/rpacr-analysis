{
 "cells": [
  {
   "cell_type": "markdown",
   "metadata": {},
   "source": [
    "# Import dependencies"
   ]
  },
  {
   "cell_type": "markdown",
   "metadata": {},
   "source": [
    "### Basic utilities"
   ]
  },
  {
   "cell_type": "code",
   "execution_count": 1,
   "metadata": {
    "collapsed": true
   },
   "outputs": [],
   "source": [
    "import pathlib\n",
    "import json\n",
    "import csv\n",
    "from pprint import pprint\n",
    "import re"
   ]
  },
  {
   "cell_type": "markdown",
   "metadata": {},
   "source": [
    "### Data structures"
   ]
  },
  {
   "cell_type": "code",
   "execution_count": 2,
   "metadata": {
    "collapsed": true
   },
   "outputs": [],
   "source": [
    "import numpy as np\n",
    "import pandas as pd"
   ]
  },
  {
   "cell_type": "markdown",
   "metadata": {},
   "source": [
    "### Plotting and visualization"
   ]
  },
  {
   "cell_type": "code",
   "execution_count": 57,
   "metadata": {
    "collapsed": false
   },
   "outputs": [],
   "source": [
    "from IPython.display import display, display_html, HTML\n",
    "# import IPython.display as disp\n",
    "\n",
    "import matplotlib.pyplot as plt\n",
    "\n",
    "import seaborn as sns"
   ]
  },
  {
   "cell_type": "markdown",
   "metadata": {},
   "source": [
    "### Import statistical packages"
   ]
  },
  {
   "cell_type": "code",
   "execution_count": 4,
   "metadata": {
    "collapsed": true
   },
   "outputs": [],
   "source": [
    "# statsmodels\n",
    "import statsmodels.formula.api as smf\n",
    "import statsmodels.api as sm\n",
    "from statsmodels.stats import anova\n",
    "from statsmodels.graphics.factorplots import interaction_plot\n",
    "\n",
    "# scipy\n",
    "from scipy import stats"
   ]
  },
  {
   "cell_type": "markdown",
   "metadata": {},
   "source": [
    "### Set miscellaneous options"
   ]
  },
  {
   "cell_type": "code",
   "execution_count": 58,
   "metadata": {
    "collapsed": false
   },
   "outputs": [
    {
     "name": "stdout",
     "output_type": "stream",
     "text": [
      "Using matplotlib backend: MacOSX\n",
      "Populating the interactive namespace from numpy and matplotlib\n"
     ]
    }
   ],
   "source": [
    "sns.set_style(\"whitegrid\")\n",
    "%matplotlib\n",
    "%pylab inline\n",
    "\n",
    "# Set the maximum number of columns for pandas to display\n",
    "pd.set_option(\"display.max_columns\",35)"
   ]
  },
  {
   "cell_type": "markdown",
   "metadata": {},
   "source": [
    "---"
   ]
  },
  {
   "cell_type": "markdown",
   "metadata": {},
   "source": [
    "# Utility functions"
   ]
  },
  {
   "cell_type": "markdown",
   "metadata": {},
   "source": [
    "### Define function to print pretty string output in HTML format"
   ]
  },
  {
   "cell_type": "code",
   "execution_count": 6,
   "metadata": {
    "collapsed": false
   },
   "outputs": [],
   "source": [
    "def mdprint(*objects, tag=None):\n",
    "    raw_string = ' '.join([str(__) for __ in objects])\n",
    "    \n",
    "    if tag == 'h1':\n",
    "        raw_string = '<h1>{}</h1>'.format(raw_string)\n",
    "    elif tag == 'h2':\n",
    "        raw_string = '<h2>{}</h2>'.format(raw_string)\n",
    "    elif tag == 'h3':\n",
    "        raw_string = '<h3>{}</h3>'.format(raw_string)\n",
    "    elif tag == 'b':\n",
    "        raw_string = '<b>{}</b>'.format(raw_string)\n",
    "    \n",
    "    display(HTML(raw_string))\n",
    "\n",
    "verbose_printing = False\n",
    "def vprint(*args, **kwargs):\n",
    "    if verbose_printing:\n",
    "        mdprint(*args, **kwargs)"
   ]
  },
  {
   "cell_type": "markdown",
   "metadata": {},
   "source": [
    "---"
   ]
  },
  {
   "cell_type": "markdown",
   "metadata": {},
   "source": [
    "# Data file input"
   ]
  },
  {
   "cell_type": "markdown",
   "metadata": {},
   "source": [
    "### Load raw data files: `get_raw_data_files()`\n",
    "\n",
    "- Define function to load the raw data files from the `/data/mazeexperiment/participant_data/` directory\n",
    "- If the experiment script was started with a certain participant number on more than one occasion, subsequent occasions have a sequence number appended to the end. This function skips any files which are less than 1000 bytes, i.e. files which resulted from a false start of the experiment script"
   ]
  },
  {
   "cell_type": "code",
   "execution_count": 7,
   "metadata": {
    "collapsed": false
   },
   "outputs": [],
   "source": [
    "def get_raw_data_files(raw_data_folder):\n",
    "    raw_data_files = raw_data_folder.glob('*.csv')\n",
    "    \n",
    "    chosen_files = list()\n",
    "    for f in raw_data_files:\n",
    "        # Check to see that file is larger than 1KB\n",
    "        if f.stat().st_size > 1000:\n",
    "            chosen_files.append(f)\n",
    "            \n",
    "    return chosen_files"
   ]
  },
  {
   "cell_type": "markdown",
   "metadata": {},
   "source": [
    "### Reformat data files: `reformat_raw_data_files(raw_data_files)`\n",
    "\n",
    "- Unescaped double quotes within the all_runtime column causes the data files to be misparsed.\n",
    "- This function fixes that error to make these files parseable"
   ]
  },
  {
   "cell_type": "code",
   "execution_count": 8,
   "metadata": {
    "collapsed": true
   },
   "outputs": [],
   "source": [
    "def reformat_raw_data_files(raw_data_files, reformatted_data_folder):\n",
    "    reformatted_files = list()\n",
    "    \n",
    "    for data_file in raw_data_files:\n",
    "        # Fix name of file if it contains a sequence number at the end\n",
    "        fixed_name = './{}/{}'.format(str(reformatted_data_folder), data_file.name)\n",
    "        m = re.search(\n",
    "            '(?P<directory>\\./data/mazeexperiment/participant_data-reformatted/)' +\n",
    "            '(?P<basename>RPACR_\\d{3}_\\d{4}-\\d{2}-\\d{2})' +\n",
    "            '(?P<subscript>_\\d+)?' +\n",
    "            '(?P<extension>\\.\\w+)', fixed_name)\n",
    "        m = m.groupdict()\n",
    "        fixed_name = '{}{}{}'.format(m['directory'], m['basename'], m['extension'])\n",
    "        fixed_file = pathlib.Path(fixed_name)\n",
    "        \n",
    "        # Open the raw input file and the output file for the reformatted data\n",
    "        with data_file.open('r', encoding='utf-8') as in_file, fixed_file.open('w', encoding='utf-8') as out_file:\n",
    "            # Loop through each line, fix the unescaped double quote, and write the line to a new file\n",
    "            count = 0\n",
    "            for line in in_file:\n",
    "                if count == 0:\n",
    "                    out_file.writelines(line)\n",
    "                    continue\n",
    "\n",
    "                fixed_line = line.replace('systemPlatform\\': \"windowsversion', 'systemPlatform\\': \"\"windowsversion')\n",
    "                fixed_line = fixed_line.replace('\\')\", \\'experi', '\\')\"\", \\'experi')\n",
    "                out_file.writelines(fixed_line)\n",
    "                \n",
    "        reformatted_files.append(fixed_file)\n",
    "        \n",
    "    return reformatted_files"
   ]
  },
  {
   "cell_type": "markdown",
   "metadata": {},
   "source": [
    "### Parse files: `parse_raw_data_files(raw_data_files)`\n",
    "\n",
    "The data files contain a serialized data structure that the `csv` module misinterprets as many columns. This function will combine those columns back into a list and write the result to new output files."
   ]
  },
  {
   "cell_type": "code",
   "execution_count": 9,
   "metadata": {
    "collapsed": true
   },
   "outputs": [],
   "source": [
    "def parse_raw_data_files(raw_data_files, parsed_data_folder):\n",
    "    \n",
    "    parsed_files = list()\n",
    "    \n",
    "    for data_file in raw_data_files:\n",
    "        \n",
    "        # Open the data file\n",
    "        with data_file.open('r', encoding='utf-8') as f:\n",
    "            csvreader = csv.reader(f, delimiter=',', quotechar='\"')\n",
    "            data = []\n",
    "\n",
    "            # Append the first (header) line to the list of lines\n",
    "            data.append(next(csvreader)[:-1])\n",
    "            \n",
    "            # Correct a series of columns that the csv package parses as many individual columns\n",
    "            # rather than as items within a serialized data structure\n",
    "            for line in csvreader:\n",
    "                data.append(line[:41] + [', '.join(line[41:83])] + line[83:-1])\n",
    "                \n",
    "        # Specify location of processed data file\n",
    "        parsed_data_file = '{}/{}'.format(parsed_data_folder_name, data_file.name)\n",
    "        parsed_data_file = pathlib.Path(parsed_data_file)\n",
    "        \n",
    "        # Write out processed version of data file\n",
    "        with parsed_data_file.open('w', encoding='utf-8') as f:\n",
    "            csvwriter = csv.writer(f, delimiter=',', quotechar='\"')\n",
    "            csvwriter.writerows(data)\n",
    "            \n",
    "        parsed_files.append(parsed_data_file)\n",
    "        \n",
    "    return parsed_files"
   ]
  },
  {
   "cell_type": "markdown",
   "metadata": {},
   "source": [
    "### Load and process data files for analysis\n",
    "\n",
    "- Check to see if folder containing reformatted and parsed data folders already exists, then load files\n",
    "- Otherwise, reformat and parse the loaded raw data files"
   ]
  },
  {
   "cell_type": "code",
   "execution_count": 10,
   "metadata": {
    "collapsed": false
   },
   "outputs": [
    {
     "data": {
      "text/html": [
       "Found 53 raw data files"
      ],
      "text/plain": [
       "<IPython.core.display.HTML object>"
      ]
     },
     "metadata": {},
     "output_type": "display_data"
    },
    {
     "data": {
      "text/html": [
       "<b>Raw data files have already been processed.</b>"
      ],
      "text/plain": [
       "<IPython.core.display.HTML object>"
      ]
     },
     "metadata": {},
     "output_type": "display_data"
    },
    {
     "data": {
      "text/html": [
       "Skipping reformatting and parsing steps..."
      ],
      "text/plain": [
       "<IPython.core.display.HTML object>"
      ]
     },
     "metadata": {},
     "output_type": "display_data"
    },
    {
     "data": {
      "text/html": [
       "Loaded 53 data files for analysis."
      ],
      "text/plain": [
       "<IPython.core.display.HTML object>"
      ]
     },
     "metadata": {},
     "output_type": "display_data"
    }
   ],
   "source": [
    "# Specify raw data folder\n",
    "raw_data_folder_name = './data/mazeexperiment/participant_data/'\n",
    "raw_data_folder = pathlib.Path(raw_data_folder_name)\n",
    "\n",
    "# Create folder to hold reformatted data\n",
    "reformatted_data_folder_name = './data/mazeexperiment/participant_data-reformatted/'\n",
    "reformatted_data_folder = pathlib.Path(reformatted_data_folder_name)\n",
    "reformatted_data_folder.mkdir(exist_ok=True)\n",
    "\n",
    "# Create processed data folder\n",
    "parsed_data_folder_name = './data/mazeexperiment/participant_data-processed/'\n",
    "parsed_data_folder = pathlib.Path(parsed_data_folder_name)\n",
    "parsed_data_folder.mkdir(exist_ok=True)\n",
    "\n",
    "# Load raw data files from disk\n",
    "raw_data_files = get_raw_data_files(raw_data_folder)\n",
    "mdprint('Found {} raw data files'.format(len(raw_data_files)))\n",
    "\n",
    "# Check to see if parsed data files already exist\n",
    "parsed_data_files = list(parsed_data_folder.glob('*.csv'))\n",
    "\n",
    "# If the number of files in the parsed data directory is equal to the number\n",
    "# of raw data files, skip the reformatting and parsing steps\n",
    "if len(parsed_data_files) == len(raw_data_files):\n",
    "    mdprint('Raw data files have already been processed.', tag='b')\n",
    "    mdprint('Skipping reformatting and parsing steps...')\n",
    "    data_files = list(parsed_data_files)\n",
    "else:\n",
    "    mdprint('Now formatting and parsing raw data files for analysis...')\n",
    "    \n",
    "    raw_data_files = reformat_raw_data_files(raw_data_files, reformatted_data_folder)\n",
    "    mdprint('Reformatted {} raw data files'.format(len(raw_data_files)))\n",
    "    \n",
    "    data_files = parse_raw_data_files(raw_data_files, parsed_data_folder)\n",
    "\n",
    "mdprint('Loaded {} data files for analysis.'.format(len(data_files)))"
   ]
  },
  {
   "cell_type": "markdown",
   "metadata": {},
   "source": [
    "---"
   ]
  },
  {
   "cell_type": "markdown",
   "metadata": {},
   "source": [
    "# Prepare data structures for analysis"
   ]
  },
  {
   "cell_type": "markdown",
   "metadata": {},
   "source": [
    "### Aggregate all participant IDs from the data file names"
   ]
  },
  {
   "cell_type": "code",
   "execution_count": 31,
   "metadata": {
    "collapsed": true
   },
   "outputs": [],
   "source": [
    "# Aggregate all participant ID numbers\n",
    "participant_ids = []\n",
    "\n",
    "# The index of where the participant ID number starts in the file name\n",
    "pid_start = data_files[0].name.index('_') + 1\n",
    "for data_file in data_files:\n",
    "    # Extract the ID substring for the file name and convert it to an int\n",
    "    pid = np.int16(data_file.name[pid_start:pid_start+3])\n",
    "    participant_ids.append(pid)"
   ]
  },
  {
   "cell_type": "markdown",
   "metadata": {},
   "source": [
    "### Create empty `participants` DataFrame"
   ]
  },
  {
   "cell_type": "code",
   "execution_count": 32,
   "metadata": {
    "collapsed": false
   },
   "outputs": [],
   "source": [
    "columns = [\n",
    "    'data',\n",
    "    'session_time',\n",
    "    'version',\n",
    "    'platform',\n",
    "    'hostname',\n",
    "    'psychopy_version',\n",
    "    'window_size',\n",
    "    'window_type'\n",
    "]\n",
    "\n",
    "participants = pd.DataFrame(\n",
    "    index=pd.Index(participant_ids, name='participant'),\n",
    "    columns=columns\n",
    ")"
   ]
  },
  {
   "cell_type": "markdown",
   "metadata": {},
   "source": [
    "### Load participant data into DataFrame"
   ]
  },
  {
   "cell_type": "markdown",
   "metadata": {},
   "source": [
    "#### Load data from CSV file, excluding irrelevent columns"
   ]
  },
  {
   "cell_type": "code",
   "execution_count": 33,
   "metadata": {
    "collapsed": true
   },
   "outputs": [],
   "source": [
    "def load_csv_data(data):\n",
    "    \n",
    "    trials_df = pd.DataFrame.from_records(\n",
    "        data[1:],\n",
    "        columns=data[0],\n",
    "        exclude=[\n",
    "            'sentence', 'practice_block.thisRepN',\n",
    "            'practice_block.thisTrialN', 'practice_block.thisN',\n",
    "            'practice_block.thisIndex', 'proc_count',\n",
    "            'exp_name', 'all_runtime',\n",
    "            'frame_rate', 'pretrial_fixation'\n",
    "        ]\n",
    "    )\n",
    "\n",
    "    \n",
    "    # Exclude rows without a sentence block index, i.e. practice trials\n",
    "    trials_df = trials_df.loc[trials_df['sentence_block.thisIndex'] != '']\n",
    "    trials_df = trials_df.rename(columns={\n",
    "        'sentence_trial.thisIndex': 'sentence_index',\n",
    "        'sentence_block.thisN': 'sentence_order'\n",
    "    })\n",
    "    \n",
    "    # Rename columns that don't have a valid Pythonic name\n",
    "    renamed_cols = dict()\n",
    "    for col in trials_df.axes[1]:\n",
    "        if '.' in col:\n",
    "            renamed_cols[col] = col.replace('.', '_')\n",
    "            \n",
    "    trials_df = trials_df.rename(columns=renamed_cols)\n",
    "    \n",
    "    # Convert numeric columns from string to int\n",
    "    numeric_cols = [\n",
    "        'target_pos', 'resp', 'resp_acc', 'sentence_index', 'sentence_order', 'critical_index',\n",
    "        'condition', 'block_acc', 'sentence_number', 'resp_RT', 'block_RT'\n",
    "    ]\n",
    "    trials_df[numeric_cols] = trials_df[numeric_cols].apply(pd.to_numeric).astype(np.int, raise_on_error=False)\n",
    "    \n",
    "    return trials_df"
   ]
  },
  {
   "cell_type": "markdown",
   "metadata": {},
   "source": [
    "#### Create a dataframe containing the individual item pairs in each sentence"
   ]
  },
  {
   "cell_type": "code",
   "execution_count": 34,
   "metadata": {
    "collapsed": true
   },
   "outputs": [],
   "source": [
    "def process_sentence_dataframe(trials_df):\n",
    "    \n",
    "    # Don't include the rows that contain block accuracy\n",
    "    # Index DF by sentence number and pair index (2D)\n",
    "    sentences_df = trials_df\\\n",
    "        .loc[np.isnan(trials_df['block_acc'])]\\\n",
    "        .set_index(['sentence_number', 'sentence_index'])\\\n",
    "        .filter([\n",
    "            'pair_distractor', 'pair_correct',\n",
    "            'target_pos', 'target_pos_verbose',\n",
    "            'resp', 'resp_verbose',\n",
    "            'resp_RT', 'resp_acc',\n",
    "            'prev_pos', 'prev_resp'\n",
    "        ])\n",
    "    \n",
    "    numeric_cols = ['target_pos', 'resp', 'resp_acc']\n",
    "    sentences_df[numeric_cols] = sentences_df[numeric_cols].apply(pd.to_numeric).astype(np.int, raise_on_error=False)\n",
    "    \n",
    "    return sentences_df"
   ]
  },
  {
   "cell_type": "markdown",
   "metadata": {},
   "source": [
    "#### Create a dataframe containing block-level information for each sentence"
   ]
  },
  {
   "cell_type": "code",
   "execution_count": 35,
   "metadata": {
    "collapsed": true
   },
   "outputs": [],
   "source": [
    "def process_block_dataframe(trials_df):\n",
    "    \n",
    "    # Include only rows that contain block accuracy\n",
    "    # Index DF by sentence number\n",
    "\n",
    "    block_df = trials_df\\\n",
    "        .loc[np.isfinite(trials_df['block_acc'])]\\\n",
    "        .set_index(['sentence_number'])\\\n",
    "        .filter([\n",
    "            'sentence_order', 'full_sentence', 'critical_index',\n",
    "            'critical_target', 'condition',\n",
    "            'critical_distractor', 'block_acc',\n",
    "            'block_RT'\n",
    "        ])\n",
    "    \n",
    "    numeric_cols = ['sentence_order', 'critical_index', 'condition', 'block_acc', 'block_RT']\n",
    "    block_df[numeric_cols] = block_df[numeric_cols].apply(pd.to_numeric).astype(np.int, raise_on_error=False)\n",
    "    block_df['critical_index'] = block_df['critical_index'] - 1\n",
    "    \n",
    "    return block_df"
   ]
  },
  {
   "cell_type": "markdown",
   "metadata": {},
   "source": [
    "#### Add condition labels to block-level information for each sentence"
   ]
  },
  {
   "cell_type": "code",
   "execution_count": 36,
   "metadata": {
    "collapsed": true
   },
   "outputs": [],
   "source": [
    "def process_condition_labels(block_df):\n",
    "    \n",
    "    # Define condition names and condition characteristics\n",
    "    distractor_conditions = {1: 'both_sim', 2: 'orth_sim', 3: 'phon_sim', 4: 'both_dif'}\n",
    "    phono_sim_condition = {1: True, 2: False, 3: True, 4: False}\n",
    "    ortho_sim_condition = {1: True, 2: True, 3: False, 4: False}\n",
    "    \n",
    "    block_df['condition_label'] = block_df.apply(lambda row: distractor_conditions[row['condition']], axis=1)\n",
    "    block_df['ortho_similarity'] = block_df.apply(lambda row: int(ortho_sim_condition[row['condition']]), axis=1)\n",
    "    block_df['phono_similarity'] = block_df.apply(lambda row: int(phono_sim_condition[row['condition']]), axis=1)\n",
    "    \n",
    "    return block_df"
   ]
  },
  {
   "cell_type": "markdown",
   "metadata": {},
   "source": [
    "#### Add stimuli characteristics to block-level information"
   ]
  },
  {
   "cell_type": "code",
   "execution_count": 42,
   "metadata": {
    "collapsed": false
   },
   "outputs": [],
   "source": [
    "def process_stim_characteristics(block_df, sentences_df):\n",
    "    \n",
    "    ####################################################################################\n",
    "    # Load SUBTLEX character file\n",
    "    ####################################################################################\n",
    "    \n",
    "    subtlex_chr_file = pathlib.Path('/Users/nick/github/orthophonology/data/subtlex-ch/SUBTLEX-CH-CHR.csv')\n",
    "    \n",
    "    with subtlex_chr_file.open('r') as f:\n",
    "        subtlex_total_chr = next(f).split(': ')[1].replace(',', '').strip()\n",
    "        subtlex_total_chr_contexts = next(f).split(': ')[1].replace(',', '').strip()\n",
    "        \n",
    "        subtlex_chr = pd.read_csv(f, sep='\\t')\n",
    "        \n",
    "    subtlex_chr.columns = [\n",
    "        'character', 'count', 'per_million', 'log_count',\n",
    "        'context_count', 'context_percent', 'log_context_count'\n",
    "    ]\n",
    "    \n",
    "    ####################################################################################\n",
    "    # Load SUBTLEX word file\n",
    "    ####################################################################################\n",
    "    \n",
    "    subtlex_word_file = pathlib.Path('/Users/nick/github/orthophonology/data/subtlex-ch/SUBTLEX-CH-WF.csv')\n",
    "    \n",
    "    with subtlex_word_file.open('r') as f:\n",
    "        subtlex_total_word = next(f).split(': ')[1].replace(',', '').strip()\n",
    "        subtlex_total_word_contexts = next(f).split(': ')[1].replace(',', '').strip()\n",
    "        \n",
    "        subtlex_word = pd.read_csv(f, sep='\\t')\n",
    "        \n",
    "    subtlex_word.columns = [\n",
    "        'word', 'count', 'per_million', 'log_count',\n",
    "        'context_count', 'context_percent', 'log_context_count'\n",
    "    ]\n",
    "\n",
    "    ####################################################################################\n",
    "    # Add frequency data to blocks\n",
    "    ####################################################################################\n",
    "    \n",
    "    for ix, block in block_df.iterrows():\n",
    "        \n",
    "        ################################################################################\n",
    "        # Check if the critical word was reached\n",
    "        ################################################################################\n",
    "        sentence = sentences_df.loc[ix]\n",
    "        if block['critical_index'] in sentence.index:\n",
    "            critical_pair = sentence.loc[block['critical_index']]\n",
    "            block_df.loc[ix, 'critical_reached'] = 1\n",
    "            \n",
    "        else:\n",
    "            block_df.loc[ix, 'critical_reached'] = 0\n",
    "            continue\n",
    "            \n",
    "        \n",
    "        ################################################################################\n",
    "        # Process the target and distractor words\n",
    "        ################################################################################\n",
    "        block_df.loc[ix, 'critical_target_word'] = critical_pair['pair_correct'].replace(',', '').replace('.', '')\n",
    "        block_df.loc[ix, 'target_length'] = len(block_df.loc[ix, 'critical_target_word'])\n",
    "        \n",
    "        block_df.loc[ix, 'critical_distractor_word'] = block_df.loc[ix, 'critical_distractor']\n",
    "        \n",
    "        # Isolate distractor character\n",
    "        dist_word = block_df.loc[ix]['critical_distractor_word']\n",
    "        targ_word = block_df.loc[ix]['critical_target_word']\n",
    "        for charx in range(len(targ_word)):\n",
    "            if dist_word[charx] != targ_word[charx]:\n",
    "                block_df.loc[ix, 'critical_distractor'] = dist_word[charx]\n",
    "                break\n",
    "        else:\n",
    "            raise ValueError('Could not isolate distractor character')\n",
    "        \n",
    "        \n",
    "        ################################################################################\n",
    "        # Get the frequencies\n",
    "        ################################################################################\n",
    "        # Get frequency of target character\n",
    "        if len(subtlex_chr.loc[subtlex_chr['character'] == block_df.loc[ix, 'critical_target']]):\n",
    "            block_df.loc[ix, 'critical_target_freq']\\\n",
    "                = np.float(subtlex_chr.loc[subtlex_chr['character'] == block_df.loc[ix, 'critical_target']]['log_count'])\n",
    "        else:\n",
    "            block_df.loc[ix, 'critical_target_freq'] = 0\n",
    "        \n",
    "        # Get frequency of distractor character\n",
    "        if len(subtlex_chr.loc[subtlex_chr['character'] == block_df.loc[ix, 'critical_distractor']]):\n",
    "            block_df.loc[ix, 'critical_distractor_freq']\\\n",
    "              = np.float(subtlex_chr.loc[subtlex_chr['character'] == block_df.loc[ix, 'critical_distractor']]['log_count'])\n",
    "        else:\n",
    "            block_df.loc[ix, 'critical_distractor_freq'] = 0\n",
    "            \n",
    "        \n",
    "        # Get frequency of target word\n",
    "        if len(subtlex_word.loc[subtlex_word['word']==block_df.loc[ix,'critical_target_word']]):\n",
    "            block_df.loc[ix, 'critical_target_word_freq'] = np.float(\n",
    "                subtlex_word.loc[subtlex_word['word']==block_df.loc[ix,'critical_target_word']]['log_count']\n",
    "            )\n",
    "        \n",
    "        else:\n",
    "            block_df.loc[ix, 'critical_target_word_freq'] = 0\n",
    "            \n",
    "        \n",
    "        # Get frequency of distractor word\n",
    "        if len(subtlex_word.loc[subtlex_word['word']==block_df.loc[ix,'critical_distractor_word']]):    \n",
    "            block_df.loc[ix, 'critical_distractor_word_freq'] = np.float(\n",
    "                subtlex_word.loc[subtlex_word['word']==block_df.loc[ix,'critical_distractor_word']]['log_count']\n",
    "            )\n",
    "        \n",
    "        else:\n",
    "            block_df.loc[ix, 'critical_distractor_word_freq'] = 0\n",
    "        \n",
    "    # Readjust column ordering\n",
    "    cols = [\n",
    "        'sentence_order', 'full_sentence', 'critical_reached',\n",
    "        'critical_index', 'critical_target', 'critical_distractor',\n",
    "        'critical_target_word', 'critical_distractor_word', 'target_length',\n",
    "        'condition', 'condition_label', 'ortho_similarity', 'phono_similarity',\n",
    "        'critical_target_freq', 'critical_distractor_freq',\n",
    "        'critical_target_word_freq', 'critical_distractor_word_freq',\n",
    "        'block_acc', 'block_RT'\n",
    "    ]\n",
    "    block_df = block_df[cols]\n",
    "    \n",
    "    return block_df\n",
    "    \n",
    "    "
   ]
  },
  {
   "cell_type": "markdown",
   "metadata": {},
   "source": [
    "#### Create a combined dataframe containing pair- and block-level information"
   ]
  },
  {
   "cell_type": "code",
   "execution_count": 38,
   "metadata": {
    "collapsed": true
   },
   "outputs": [],
   "source": [
    "# def combine_dataframes(block_df, sentences_df):\n",
    "    \n",
    "    \n",
    "        \n",
    "#     return combined_df"
   ]
  },
  {
   "cell_type": "markdown",
   "metadata": {},
   "source": [
    "#### Process the data files"
   ]
  },
  {
   "cell_type": "code",
   "execution_count": 43,
   "metadata": {
    "collapsed": false
   },
   "outputs": [
    {
     "data": {
      "text/html": [
       "<b>Columns in participants:</b>"
      ],
      "text/plain": [
       "<IPython.core.display.HTML object>"
      ]
     },
     "metadata": {},
     "output_type": "display_data"
    },
    {
     "data": {
      "text/html": [
       "data,&nbsp;&nbsp;&nbsp;session_time,&nbsp;&nbsp;&nbsp;version,&nbsp;&nbsp;&nbsp;platform,&nbsp;&nbsp;&nbsp;hostname,&nbsp;&nbsp;&nbsp;psychopy_version,&nbsp;&nbsp;&nbsp;window_size,&nbsp;&nbsp;&nbsp;window_type"
      ],
      "text/plain": [
       "<IPython.core.display.HTML object>"
      ]
     },
     "metadata": {},
     "output_type": "display_data"
    }
   ],
   "source": [
    "count = 0\n",
    "for data_file in data_files:\n",
    "    count += 1\n",
    "\n",
    "    with data_file.open('r') as f:\n",
    "        csvreader = csv.reader(f, delimiter=',')\n",
    "        data = list(csvreader)\n",
    "    \n",
    "    trials_df    = load_csv_data(data)\n",
    "    \n",
    "    sentences_df = process_sentence_dataframe(trials_df)\n",
    "    \n",
    "    block_df     = process_block_dataframe(trials_df)\n",
    "    block_df     = process_condition_labels(block_df)\n",
    "    block_df     = process_stim_characteristics(block_df, sentences_df)\n",
    "    \n",
    "    # combined_df  = combine_dataframes(block_df, sentences_df)\n",
    "    combined_df = pd.DataFrame(\n",
    "        index=pd.Index(np.arange(1, len(block_df)+1), name='sentence_number'),\n",
    "        columns=['block', 'sentence']\n",
    "    )\n",
    "    \n",
    "    for row in combined_df.iterrows():\n",
    "        row[1]['block'] = block_df.loc[row[0]]\n",
    "        row[1]['sentence'] = sentences_df.loc[row[0]]\n",
    "        \n",
    "    ####################################################################################\n",
    "    # Add all data to participants dataframe\n",
    "    ####################################################################################\n",
    "    \n",
    "    # Get view of participant's row from participant dataframe\n",
    "    participant_row = participants.loc[np.int(trials_df.iloc[0]['participant'])]\n",
    "\n",
    "    # Add data to row\n",
    "    participant_row['data'] = combined_df\n",
    "    \n",
    "    # Set participant-level information within row\n",
    "    participant_row['session_time'] = '{} {}'.format(trials_df.iloc[0]['date'], trials_df.iloc[0]['session_start'])\n",
    "    \n",
    "    included_cols = ['version', 'platform', 'hostname', 'psychopy_version', 'window_size', 'window_type']\n",
    "    participant_row[included_cols] = trials_df.iloc[0][included_cols]\n",
    "    \n",
    "    disp.clear_output(wait=True)\n",
    "    mdprint('Number of rows processed: {: >2}'.format(count))\n",
    "    \n",
    "disp.clear_output(wait=True)\n",
    "mdprint('Columns in participants:', tag='b')\n",
    "mdprint(',&nbsp;&nbsp;&nbsp;'.join(list(participants.axes[1])))"
   ]
  },
  {
   "cell_type": "markdown",
   "metadata": {},
   "source": [
    "### Create flat dataframe with all participant data"
   ]
  },
  {
   "cell_type": "code",
   "execution_count": 44,
   "metadata": {
    "collapsed": false
   },
   "outputs": [
    {
     "name": "stdout",
     "output_type": "stream",
     "text": [
      "Finished processing data from 53 participants\n",
      "Number of rows processed:  40247\n",
      "Percentage of rows done:  100.00%\n",
      "\n"
     ]
    },
    {
     "data": {
      "text/html": [
       "<b>Columns in participants_flat:</b>"
      ],
      "text/plain": [
       "<IPython.core.display.HTML object>"
      ]
     },
     "metadata": {},
     "output_type": "display_data"
    },
    {
     "data": {
      "text/html": [
       "&nbsp;&nbsp;&nbsp;&nbsp; participant,&nbsp;&nbsp;&nbsp;sentence_number,&nbsp;&nbsp;&nbsp;sentence_index,&nbsp;&nbsp;&nbsp;sentence_order,&nbsp;&nbsp;&nbsp;critical_reached,&nbsp;&nbsp;&nbsp;critical_index"
      ],
      "text/plain": [
       "<IPython.core.display.HTML object>"
      ]
     },
     "metadata": {},
     "output_type": "display_data"
    },
    {
     "data": {
      "text/html": [
       "&nbsp;&nbsp;&nbsp;&nbsp; critical_target,&nbsp;&nbsp;&nbsp;critical_distractor,&nbsp;&nbsp;&nbsp;critical_target_word,&nbsp;&nbsp;&nbsp;critical_distractor_word,&nbsp;&nbsp;&nbsp;target_length,&nbsp;&nbsp;&nbsp;condition"
      ],
      "text/plain": [
       "<IPython.core.display.HTML object>"
      ]
     },
     "metadata": {},
     "output_type": "display_data"
    },
    {
     "data": {
      "text/html": [
       "&nbsp;&nbsp;&nbsp;&nbsp; condition_label,&nbsp;&nbsp;&nbsp;ortho_similarity,&nbsp;&nbsp;&nbsp;phono_similarity,&nbsp;&nbsp;&nbsp;critical_target_freq,&nbsp;&nbsp;&nbsp;critical_distractor_freq,&nbsp;&nbsp;&nbsp;critical_target_word_freq"
      ],
      "text/plain": [
       "<IPython.core.display.HTML object>"
      ]
     },
     "metadata": {},
     "output_type": "display_data"
    },
    {
     "data": {
      "text/html": [
       "&nbsp;&nbsp;&nbsp;&nbsp; critical_distractor_word_freq,&nbsp;&nbsp;&nbsp;block_acc,&nbsp;&nbsp;&nbsp;block_RT,&nbsp;&nbsp;&nbsp;pair_distractor,&nbsp;&nbsp;&nbsp;pair_correct,&nbsp;&nbsp;&nbsp;target_pos"
      ],
      "text/plain": [
       "<IPython.core.display.HTML object>"
      ]
     },
     "metadata": {},
     "output_type": "display_data"
    },
    {
     "data": {
      "text/html": [
       "&nbsp;&nbsp;&nbsp;&nbsp; target_pos_verbose,&nbsp;&nbsp;&nbsp;resp,&nbsp;&nbsp;&nbsp;resp_verbose,&nbsp;&nbsp;&nbsp;resp_RT,&nbsp;&nbsp;&nbsp;resp_acc,&nbsp;&nbsp;&nbsp;prev_pos"
      ],
      "text/plain": [
       "<IPython.core.display.HTML object>"
      ]
     },
     "metadata": {},
     "output_type": "display_data"
    },
    {
     "data": {
      "text/html": [
       "&nbsp;&nbsp;&nbsp;&nbsp; prev_resp"
      ],
      "text/plain": [
       "<IPython.core.display.HTML object>"
      ]
     },
     "metadata": {},
     "output_type": "display_data"
    }
   ],
   "source": [
    "# The columns that identify participant, sentence number, and pair in the sentence\n",
    "index_columns = ['participant', 'sentence_number', 'sentence_index']\n",
    "\n",
    "# The columns that carry block-level data\n",
    "block_cols = list(participants.iloc[0]['data'].iloc[0]['block'].axes[0])\n",
    "block_cols.remove('full_sentence')\n",
    "\n",
    "# The columns that carry pair-level data\n",
    "sentence_cols = list(participants.iloc[0]['data'].iloc[1]['sentence'].axes[1])\n",
    "\n",
    "# Merged list of all the columns\n",
    "flat_columns = index_columns + block_cols + sentence_cols\n",
    "\n",
    "####################################################################################\n",
    "# Count the number of individual trials to pre-allocate the dataframe\n",
    "####################################################################################\n",
    "    \n",
    "allocate_count = 0\n",
    "\n",
    "# Iterate through each participant\n",
    "for p_id in participants.axes[0]:\n",
    "    \n",
    "    # Iterate through the sentences for each participant\n",
    "    for s_id in participants.loc[p_id]['data'].axes[0]:\n",
    "        \n",
    "        # Add the number of words seen in each sentence to the allocation count\n",
    "        allocate_count += len(participants.loc[p_id]['data'].loc[s_id]['sentence'].axes[0])\n",
    "\n",
    "# Pre-allocate the flat dataframe\n",
    "participants_flat = pd.DataFrame(\n",
    "    columns=flat_columns,\n",
    "    index=pd.Index(np.arange(allocate_count)),\n",
    "    dtype=np.int64\n",
    ")\n",
    "####################################################################################\n",
    "# Iterate through each item pair and add data to flat dataframe\n",
    "####################################################################################\n",
    "\n",
    "ix = 0\n",
    "\n",
    "# Iterate through each participant\n",
    "for p_id in participants.axes[0]:\n",
    "    \n",
    "    # Iterate through each sentence completed by the participant\n",
    "    for s_id in participants.loc[p_id]['data'].axes[0]:\n",
    "\n",
    "        # Collect the block- and sentence-level data all at once\n",
    "        # to avoid repeated called to the same row\n",
    "        block_data = participants.loc[p_id]['data'].loc[s_id]['block'][block_cols]\n",
    "        sentence_data = participants.loc[p_id]['data'].loc[s_id]['sentence']\n",
    "        \n",
    "        # Iterate through each item pair in each sentence\n",
    "        for s_ix in participants.loc[p_id]['data'].loc[s_id]['sentence'].axes[0]:\n",
    "\n",
    "            # Assign the index columns\n",
    "            participants_flat.iloc[ix]['participant'] = p_id\n",
    "            participants_flat.iloc[ix]['sentence_number'] = s_id\n",
    "            participants_flat.iloc[ix]['sentence_index'] = s_ix\n",
    "            \n",
    "            # Assign the block- and sentence-level data\n",
    "            participants_flat.iloc[ix][block_cols] = block_data\n",
    "            participants_flat.iloc[ix][sentence_cols] = sentence_data.iloc[s_ix][sentence_cols]\n",
    "                \n",
    "            ix += 1\n",
    "        \n",
    "            if ix % 50 == 0:\n",
    "                disp.clear_output(wait=True)\n",
    "                print('Completed processing of participant #{}\\n'\n",
    "                      'Number of rows processed: {: >6}\\n'\n",
    "                      'Percentage of rows done:  {: >7.2%}'.format(p_id, ix, (ix / allocate_count))\n",
    "                )\n",
    "\n",
    "disp.clear_output(wait=True)\n",
    "print('Finished processing data from {} participants\\n'\n",
    "      'Number of rows processed: {: >6}\\n'\n",
    "      'Percentage of rows done:  {: >7.2%}\\n'.format(participants_flat.iloc[ix-1]['participant']-100, ix, (ix / allocate_count))\n",
    ")\n",
    "\n",
    "cols = list(participants_flat.axes[1])\n",
    "cols_split = list()\n",
    "curr = list()\n",
    "for i in range(1, len(cols)+1):\n",
    "    curr.append(cols[i-1])\n",
    "    \n",
    "    if i % 6 == 0:\n",
    "        cols_split.append(',&nbsp;&nbsp;&nbsp;'.join(curr))\n",
    "        curr = list()        \n",
    "cols_split.append(',&nbsp;&nbsp;&nbsp;'.join(curr))\n",
    "mdprint('Columns in participants_flat:', tag='b')\n",
    "for cols in cols_split:\n",
    "    mdprint('&nbsp;&nbsp;&nbsp;&nbsp;', cols)"
   ]
  },
  {
   "cell_type": "code",
   "execution_count": 199,
   "metadata": {
    "collapsed": false
   },
   "outputs": [
    {
     "name": "stderr",
     "output_type": "stream",
     "text": [
      "/Users/nick/.pyenv/versions/anaconda3-4.3.1/lib/python3.6/site-packages/ipykernel/__main__.py:3: SettingWithCopyWarning: \n",
      "A value is trying to be set on a copy of a slice from a DataFrame.\n",
      "Try using .loc[row_indexer,col_indexer] = value instead\n",
      "\n",
      "See the caveats in the documentation: http://pandas.pydata.org/pandas-docs/stable/indexing.html#indexing-view-versus-copy\n",
      "  app.launch_new_instance()\n",
      "/Users/nick/.pyenv/versions/anaconda3-4.3.1/lib/python3.6/site-packages/ipykernel/__main__.py:4: SettingWithCopyWarning: \n",
      "A value is trying to be set on a copy of a slice from a DataFrame.\n",
      "Try using .loc[row_indexer,col_indexer] = value instead\n",
      "\n",
      "See the caveats in the documentation: http://pandas.pydata.org/pandas-docs/stable/indexing.html#indexing-view-versus-copy\n",
      "/Users/nick/.pyenv/versions/anaconda3-4.3.1/lib/python3.6/site-packages/pandas/core/frame.py:2440: SettingWithCopyWarning: \n",
      "A value is trying to be set on a copy of a slice from a DataFrame.\n",
      "Try using .loc[row_indexer,col_indexer] = value instead\n",
      "\n",
      "See the caveats in the documentation: http://pandas.pydata.org/pandas-docs/stable/indexing.html#indexing-view-versus-copy\n",
      "  self[k1] = value[k2]\n"
     ]
    },
    {
     "name": "stdout",
     "output_type": "stream",
     "text": [
      "53\n"
     ]
    },
    {
     "data": {
      "text/html": [
       "<div>\n",
       "<table border=\"1\" class=\"dataframe\">\n",
       "  <thead>\n",
       "    <tr style=\"text-align: right;\">\n",
       "      <th></th>\n",
       "      <th>critical_reached</th>\n",
       "      <th>block_acc</th>\n",
       "    </tr>\n",
       "    <tr>\n",
       "      <th>participant</th>\n",
       "      <th></th>\n",
       "      <th></th>\n",
       "    </tr>\n",
       "  </thead>\n",
       "  <tbody>\n",
       "    <tr>\n",
       "      <th>120</th>\n",
       "      <td>59</td>\n",
       "      <td>53.125000</td>\n",
       "    </tr>\n",
       "    <tr>\n",
       "      <th>122</th>\n",
       "      <td>54</td>\n",
       "      <td>42.708333</td>\n",
       "    </tr>\n",
       "    <tr>\n",
       "      <th>123</th>\n",
       "      <td>52</td>\n",
       "      <td>42.708333</td>\n",
       "    </tr>\n",
       "  </tbody>\n",
       "</table>\n",
       "</div>"
      ],
      "text/plain": [
       "             critical_reached  block_acc\n",
       "participant                             \n",
       "120                        59  53.125000\n",
       "122                        54  42.708333\n",
       "123                        52  42.708333"
      ]
     },
     "metadata": {},
     "output_type": "display_data"
    },
    {
     "data": {
      "image/png": "[encoded data removed]",
      "text/plain": [
       "<matplotlib.figure.Figure at 0x12e34d908>"
      ]
     },
     "metadata": {},
     "output_type": "display_data"
    }
   ],
   "source": [
    "block = participants_flat.loc[participants_flat['sentence_index'] == 0]\n",
    "\n",
    "block['critical_reached'] = block['critical_reached'] * 100\n",
    "block['block_acc'] = block['block_acc'] * 100\n",
    "\n",
    "block[['critical_reached', 'block_acc']] = block[['critical_reached', 'block_acc']].apply(pd.to_numeric).astype(np.int)\n",
    "\n",
    "block = block[['participant', 'critical_reached', 'block_acc']].groupby('participant').mean()\n",
    "block['critical_reached'] = block['critical_reached'].apply(pd.to_numeric).astype(np.int)\n",
    "# display(block['critical_reached'])\n",
    "\n",
    "print(len(block))\n",
    "eliminated = block.loc[block['critical_reached'] < np.mean(block['critical_reached']) - np.std(block['critical_reached'])*2]\n",
    "\n",
    "display(eliminated)\n",
    "\n",
    "figsize(10,6)\n",
    "p = sns.countplot(block['critical_reached'])\n",
    "fig = p.get_figure()"
   ]
  },
  {
   "cell_type": "code",
   "execution_count": 128,
   "metadata": {
    "collapsed": false
   },
   "outputs": [
    {
     "data": {
      "text/html": [
       "<h1>Removal cutoff: 2811 <br>Full set: 3935 <br>Subset: 3863 <br>Percentage removed: 1.83%</h1>"
      ],
      "text/plain": [
       "<IPython.core.display.HTML object>"
      ]
     },
     "metadata": {},
     "output_type": "display_data"
    },
    {
     "name": "stderr",
     "output_type": "stream",
     "text": [
      "/Users/nick/.pyenv/versions/anaconda3-4.3.1/lib/python3.6/site-packages/statsmodels/nonparametric/kdetools.py:20: VisibleDeprecationWarning: using a non-integer number instead of an integer will result in an error in the future\n",
      "  y = X[:m/2+1] + np.r_[0,X[m/2+1:],0]*1j\n"
     ]
    },
    {
     "data": {
      "image/png": "[encoded data removed]",
      "text/plain": [
       "<matplotlib.figure.Figure at 0x12fec5320>"
      ]
     },
     "metadata": {},
     "output_type": "display_data"
    }
   ],
   "source": [
    "criticals_only = participants_flat.loc[participants_flat['sentence_index'] == participants_flat['critical_index']]\n",
    "full_count = len(criticals_only)\n",
    "resp_cutoff = np.int(np.mean(criticals_only['resp_RT']) + np.std(criticals_only['resp_RT'])*3)\n",
    "criticals_only = criticals_only.loc[(criticals_only['resp_RT'] < resp_cutoff) & (criticals_only['resp_RT'] > 300)]\n",
    "subset_count = len(criticals_only)\n",
    "\n",
    "criticals_only['resp_RT'] = criticals_only['resp_RT'].astype(np.int)\n",
    "\n",
    "mdprint(\n",
    "    'Removal cutoff:', resp_cutoff,\n",
    "    '<br>Full set:', full_count,\n",
    "    '<br>Subset:', subset_count,\n",
    "    '<br>Percentage removed: {:.2%}'.format((full_count-subset_count)/full_count),\n",
    "    tag='h1'\n",
    ")\n",
    "\n",
    "\n",
    "figsize(10,6)\n",
    "p = sns.distplot(criticals_only['resp_RT'])\n",
    "fig = p.get_figure()\n",
    "fig.savefig('descriptives/resp_RT.png')"
   ]
  },
  {
   "cell_type": "code",
   "execution_count": 129,
   "metadata": {
    "collapsed": false
   },
   "outputs": [
    {
     "name": "stderr",
     "output_type": "stream",
     "text": [
      "/Users/nick/.pyenv/versions/anaconda3-4.3.1/lib/python3.6/site-packages/statsmodels/nonparametric/kdetools.py:20: VisibleDeprecationWarning: using a non-integer number instead of an integer will result in an error in the future\n",
      "  y = X[:m/2+1] + np.r_[0,X[m/2+1:],0]*1j\n"
     ]
    },
    {
     "data": {
      "image/png": "[encoded data removed]",
      "text/plain": [
       "<matplotlib.figure.Figure at 0x12e7a2b70>"
      ]
     },
     "metadata": {},
     "output_type": "display_data"
    }
   ],
   "source": [
    "p = sns.distplot(np.log(criticals_only['resp_RT']))\n",
    "fig = p.get_figure()\n",
    "fig.savefig('descriptives/log_resp_RT.png')"
   ]
  },
  {
   "cell_type": "code",
   "execution_count": 132,
   "metadata": {
    "collapsed": false
   },
   "outputs": [
    {
     "name": "stderr",
     "output_type": "stream",
     "text": [
      "/Users/nick/.pyenv/versions/anaconda3-4.3.1/lib/python3.6/site-packages/statsmodels/nonparametric/kdetools.py:20: VisibleDeprecationWarning: using a non-integer number instead of an integer will result in an error in the future\n",
      "  y = X[:m/2+1] + np.r_[0,X[m/2+1:],0]*1j\n"
     ]
    },
    {
     "data": {
      "image/png": "[encoded data removed]",
      "text/plain": [
       "<matplotlib.figure.Figure at 0x137a55dd8>"
      ]
     },
     "metadata": {},
     "output_type": "display_data"
    }
   ],
   "source": [
    "criticals_only['inv_RT'] = -1000/criticals_only['resp_RT']\n",
    "\n",
    "p = sns.distplot(criticals_only['inv_RT'])\n",
    "fig = p.get_figure()\n",
    "fig.savefig('descriptives/inverse_resp_RT.png')"
   ]
  },
  {
   "cell_type": "code",
   "execution_count": 143,
   "metadata": {
    "collapsed": false
   },
   "outputs": [
    {
     "data": {
      "text/html": [
       "<div>\n",
       "<table border=\"1\" class=\"dataframe\">\n",
       "  <thead>\n",
       "    <tr style=\"text-align: right;\">\n",
       "      <th></th>\n",
       "      <th>inv_RT</th>\n",
       "      <th>condition</th>\n",
       "      <th>ortho_center</th>\n",
       "      <th>phono_center</th>\n",
       "    </tr>\n",
       "  </thead>\n",
       "  <tbody>\n",
       "    <tr>\n",
       "      <th>9</th>\n",
       "      <td>-1.440922</td>\n",
       "      <td>3</td>\n",
       "      <td>-1</td>\n",
       "      <td>1</td>\n",
       "    </tr>\n",
       "    <tr>\n",
       "      <th>20</th>\n",
       "      <td>-2.785515</td>\n",
       "      <td>4</td>\n",
       "      <td>-1</td>\n",
       "      <td>-1</td>\n",
       "    </tr>\n",
       "    <tr>\n",
       "      <th>26</th>\n",
       "      <td>-0.593824</td>\n",
       "      <td>2</td>\n",
       "      <td>1</td>\n",
       "      <td>-1</td>\n",
       "    </tr>\n",
       "    <tr>\n",
       "      <th>46</th>\n",
       "      <td>-1.054852</td>\n",
       "      <td>4</td>\n",
       "      <td>-1</td>\n",
       "      <td>-1</td>\n",
       "    </tr>\n",
       "    <tr>\n",
       "      <th>56</th>\n",
       "      <td>-1.582278</td>\n",
       "      <td>3</td>\n",
       "      <td>-1</td>\n",
       "      <td>1</td>\n",
       "    </tr>\n",
       "    <tr>\n",
       "      <th>63</th>\n",
       "      <td>-1.697793</td>\n",
       "      <td>4</td>\n",
       "      <td>-1</td>\n",
       "      <td>-1</td>\n",
       "    </tr>\n",
       "    <tr>\n",
       "      <th>72</th>\n",
       "      <td>-2.159827</td>\n",
       "      <td>2</td>\n",
       "      <td>1</td>\n",
       "      <td>-1</td>\n",
       "    </tr>\n",
       "    <tr>\n",
       "      <th>93</th>\n",
       "      <td>-0.650618</td>\n",
       "      <td>1</td>\n",
       "      <td>1</td>\n",
       "      <td>1</td>\n",
       "    </tr>\n",
       "    <tr>\n",
       "      <th>99</th>\n",
       "      <td>-1.901141</td>\n",
       "      <td>2</td>\n",
       "      <td>1</td>\n",
       "      <td>-1</td>\n",
       "    </tr>\n",
       "    <tr>\n",
       "      <th>106</th>\n",
       "      <td>-2.066116</td>\n",
       "      <td>4</td>\n",
       "      <td>-1</td>\n",
       "      <td>-1</td>\n",
       "    </tr>\n",
       "  </tbody>\n",
       "</table>\n",
       "</div>"
      ],
      "text/plain": [
       "       inv_RT condition  ortho_center  phono_center\n",
       "9   -1.440922         3            -1             1\n",
       "20  -2.785515         4            -1            -1\n",
       "26  -0.593824         2             1            -1\n",
       "46  -1.054852         4            -1            -1\n",
       "56  -1.582278         3            -1             1\n",
       "63  -1.697793         4            -1            -1\n",
       "72  -2.159827         2             1            -1\n",
       "93  -0.650618         1             1             1\n",
       "99  -1.901141         2             1            -1\n",
       "106 -2.066116         4            -1            -1"
      ]
     },
     "metadata": {},
     "output_type": "display_data"
    }
   ],
   "source": [
    "criticals_only['ortho_center'] = criticals_only.apply(lambda row: (-1 if row['ortho_similarity'] == 0 else 1), axis=1)\n",
    "criticals_only['phono_center'] = criticals_only.apply(lambda row: (-1 if row['phono_similarity'] == 0 else 1), axis=1)\n",
    "\n",
    "display(criticals_only[:10][['inv_RT', 'condition', 'ortho_center', 'phono_center']])\n"
   ]
  },
  {
   "cell_type": "code",
   "execution_count": 169,
   "metadata": {
    "collapsed": false
   },
   "outputs": [
    {
     "ename": "PatsyError",
     "evalue": "Error evaluating factor: TypeError: cannot compare a dtyped [int64] array with a scalar of type [bool]\n    inv_RT ~ ortho_center*phono_center +(1 + ortho_center*phono_center|C(participant))\n                                                          ^^^^^^^^^^^^^^^^^^^^^^^^^^^",
     "output_type": "error",
     "traceback": [
      "\u001b[0;31m---------------------------------------------------------------------------\u001b[0m",
      "\u001b[0;31mTypeError\u001b[0m                                 Traceback (most recent call last)",
      "\u001b[0;32m/Users/nick/.pyenv/versions/anaconda3-4.3.1/lib/python3.6/site-packages/pandas/core/ops.py\u001b[0m in \u001b[0;36mna_op\u001b[0;34m(x, y)\u001b[0m\n\u001b[1;32m    876\u001b[0m         \u001b[0;32mtry\u001b[0m\u001b[0;34m:\u001b[0m\u001b[0;34m\u001b[0m\u001b[0m\n\u001b[0;32m--> 877\u001b[0;31m             \u001b[0mresult\u001b[0m \u001b[0;34m=\u001b[0m \u001b[0mop\u001b[0m\u001b[0;34m(\u001b[0m\u001b[0mx\u001b[0m\u001b[0;34m,\u001b[0m \u001b[0my\u001b[0m\u001b[0;34m)\u001b[0m\u001b[0;34m\u001b[0m\u001b[0m\n\u001b[0m\u001b[1;32m    878\u001b[0m         \u001b[0;32mexcept\u001b[0m \u001b[0mTypeError\u001b[0m\u001b[0;34m:\u001b[0m\u001b[0;34m\u001b[0m\u001b[0m\n",
      "\u001b[0;31mTypeError\u001b[0m: unsupported operand type(s) for |: 'int' and '_CategoricalBox'",
      "\nDuring handling of the above exception, another exception occurred:\n",
      "\u001b[0;31mValueError\u001b[0m                                Traceback (most recent call last)",
      "\u001b[0;32m/Users/nick/.pyenv/versions/anaconda3-4.3.1/lib/python3.6/site-packages/pandas/core/ops.py\u001b[0m in \u001b[0;36mna_op\u001b[0;34m(x, y)\u001b[0m\n\u001b[1;32m    894\u001b[0m                         \u001b[0my\u001b[0m \u001b[0;34m=\u001b[0m \u001b[0mbool\u001b[0m\u001b[0;34m(\u001b[0m\u001b[0my\u001b[0m\u001b[0;34m)\u001b[0m\u001b[0;34m\u001b[0m\u001b[0m\n\u001b[0;32m--> 895\u001b[0;31m                     \u001b[0mresult\u001b[0m \u001b[0;34m=\u001b[0m \u001b[0mlib\u001b[0m\u001b[0;34m.\u001b[0m\u001b[0mscalar_binop\u001b[0m\u001b[0;34m(\u001b[0m\u001b[0mx\u001b[0m\u001b[0;34m,\u001b[0m \u001b[0my\u001b[0m\u001b[0;34m,\u001b[0m \u001b[0mop\u001b[0m\u001b[0;34m)\u001b[0m\u001b[0;34m\u001b[0m\u001b[0m\n\u001b[0m\u001b[1;32m    896\u001b[0m                 \u001b[0;32mexcept\u001b[0m\u001b[0;34m:\u001b[0m\u001b[0;34m\u001b[0m\u001b[0m\n",
      "\u001b[0;32mpandas/lib.pyx\u001b[0m in \u001b[0;36mpandas.lib.scalar_binop (pandas/lib.c:16177)\u001b[0;34m()\u001b[0m\n",
      "\u001b[0;31mValueError\u001b[0m: Buffer dtype mismatch, expected 'Python object' but got 'long'",
      "\nDuring handling of the above exception, another exception occurred:\n",
      "\u001b[0;31mTypeError\u001b[0m                                 Traceback (most recent call last)",
      "\u001b[0;32m/Users/nick/.pyenv/versions/anaconda3-4.3.1/lib/python3.6/site-packages/patsy/compat.py\u001b[0m in \u001b[0;36mcall_and_wrap_exc\u001b[0;34m(msg, origin, f, *args, **kwargs)\u001b[0m\n\u001b[1;32m    116\u001b[0m     \u001b[0;32mtry\u001b[0m\u001b[0;34m:\u001b[0m\u001b[0;34m\u001b[0m\u001b[0m\n\u001b[0;32m--> 117\u001b[0;31m         \u001b[0;32mreturn\u001b[0m \u001b[0mf\u001b[0m\u001b[0;34m(\u001b[0m\u001b[0;34m*\u001b[0m\u001b[0margs\u001b[0m\u001b[0;34m,\u001b[0m \u001b[0;34m**\u001b[0m\u001b[0mkwargs\u001b[0m\u001b[0;34m)\u001b[0m\u001b[0;34m\u001b[0m\u001b[0m\n\u001b[0m\u001b[1;32m    118\u001b[0m     \u001b[0;32mexcept\u001b[0m \u001b[0mException\u001b[0m \u001b[0;32mas\u001b[0m \u001b[0me\u001b[0m\u001b[0;34m:\u001b[0m\u001b[0;34m\u001b[0m\u001b[0m\n",
      "\u001b[0;32m/Users/nick/.pyenv/versions/anaconda3-4.3.1/lib/python3.6/site-packages/patsy/eval.py\u001b[0m in \u001b[0;36meval\u001b[0;34m(self, expr, source_name, inner_namespace)\u001b[0m\n\u001b[1;32m    165\u001b[0m         return eval(code, {}, VarLookupDict([inner_namespace]\n\u001b[0;32m--> 166\u001b[0;31m                                             + self._namespaces))\n\u001b[0m\u001b[1;32m    167\u001b[0m \u001b[0;34m\u001b[0m\u001b[0m\n",
      "\u001b[0;32m<string>\u001b[0m in \u001b[0;36m<module>\u001b[0;34m()\u001b[0m\n",
      "\u001b[0;32m/Users/nick/.pyenv/versions/anaconda3-4.3.1/lib/python3.6/site-packages/pandas/core/ops.py\u001b[0m in \u001b[0;36mwrapper\u001b[0;34m(self, other)\u001b[0m\n\u001b[1;32m    928\u001b[0m             return filler(self._constructor(\n\u001b[0;32m--> 929\u001b[0;31m                 \u001b[0mna_op\u001b[0m\u001b[0;34m(\u001b[0m\u001b[0mself\u001b[0m\u001b[0;34m.\u001b[0m\u001b[0mvalues\u001b[0m\u001b[0;34m,\u001b[0m \u001b[0mother\u001b[0m\u001b[0;34m)\u001b[0m\u001b[0;34m,\u001b[0m\u001b[0;34m\u001b[0m\u001b[0m\n\u001b[0m\u001b[1;32m    930\u001b[0m                 index=self.index)).__finalize__(self)\n",
      "\u001b[0;32m/Users/nick/.pyenv/versions/anaconda3-4.3.1/lib/python3.6/site-packages/pandas/core/ops.py\u001b[0m in \u001b[0;36mna_op\u001b[0;34m(x, y)\u001b[0m\n\u001b[1;32m    898\u001b[0m                                     \"a scalar of type [{1}]\".format(\n\u001b[0;32m--> 899\u001b[0;31m                                         x.dtype, type(y).__name__))\n\u001b[0m\u001b[1;32m    900\u001b[0m \u001b[0;34m\u001b[0m\u001b[0m\n",
      "\u001b[0;31mTypeError\u001b[0m: cannot compare a dtyped [int64] array with a scalar of type [bool]",
      "\nThe above exception was the direct cause of the following exception:\n",
      "\u001b[0;31mPatsyError\u001b[0m                                Traceback (most recent call last)",
      "\u001b[0;32m<ipython-input-169-cc4ba9cbdcdc>\u001b[0m in \u001b[0;36m<module>\u001b[0;34m()\u001b[0m\n\u001b[1;32m      4\u001b[0m     \u001b[0;34m\"(1 + ortho_center*phono_center|C(participant))\"\u001b[0m\u001b[0;34m,\u001b[0m\u001b[0;34m\u001b[0m\u001b[0m\n\u001b[1;32m      5\u001b[0m \u001b[0;31m#     \"(1 + (ortho_center*phono_center):C(sentence_number))\",\u001b[0m\u001b[0;34m\u001b[0m\u001b[0;34m\u001b[0m\u001b[0m\n\u001b[0;32m----> 6\u001b[0;31m     criticals_only, groups=criticals_only[['participant']])\n\u001b[0m\u001b[1;32m      7\u001b[0m \u001b[0mmdf\u001b[0m \u001b[0;34m=\u001b[0m \u001b[0mmd\u001b[0m\u001b[0;34m.\u001b[0m\u001b[0mfit\u001b[0m\u001b[0;34m(\u001b[0m\u001b[0;34m)\u001b[0m\u001b[0;34m\u001b[0m\u001b[0m\n\u001b[1;32m      8\u001b[0m \u001b[0mmdf\u001b[0m\u001b[0;34m.\u001b[0m\u001b[0msummary\u001b[0m\u001b[0;34m(\u001b[0m\u001b[0;34m)\u001b[0m\u001b[0;34m\u001b[0m\u001b[0m\n",
      "\u001b[0;32m/Users/nick/.pyenv/versions/anaconda3-4.3.1/lib/python3.6/site-packages/statsmodels/regression/mixed_linear_model.py\u001b[0m in \u001b[0;36mfrom_formula\u001b[0;34m(cls, formula, data, re_formula, subset, *args, **kwargs)\u001b[0m\n\u001b[1;32m    651\u001b[0m                                                \u001b[0msubset\u001b[0m\u001b[0;34m=\u001b[0m\u001b[0;32mNone\u001b[0m\u001b[0;34m,\u001b[0m\u001b[0;34m\u001b[0m\u001b[0m\n\u001b[1;32m    652\u001b[0m                                                \u001b[0mexog_re\u001b[0m\u001b[0;34m=\u001b[0m\u001b[0mexog_re\u001b[0m\u001b[0;34m,\u001b[0m\u001b[0;34m\u001b[0m\u001b[0m\n\u001b[0;32m--> 653\u001b[0;31m                                                *args, **kwargs)\n\u001b[0m\u001b[1;32m    654\u001b[0m \u001b[0;34m\u001b[0m\u001b[0m\n\u001b[1;32m    655\u001b[0m         \u001b[0;31m# expand re names to account for pairs of RE\u001b[0m\u001b[0;34m\u001b[0m\u001b[0;34m\u001b[0m\u001b[0m\n",
      "\u001b[0;32m/Users/nick/.pyenv/versions/anaconda3-4.3.1/lib/python3.6/site-packages/statsmodels/base/model.py\u001b[0m in \u001b[0;36mfrom_formula\u001b[0;34m(cls, formula, data, subset, *args, **kwargs)\u001b[0m\n\u001b[1;32m    145\u001b[0m         (endog, exog), missing_idx = handle_formula_data(data, None, formula,\n\u001b[1;32m    146\u001b[0m                                                          \u001b[0mdepth\u001b[0m\u001b[0;34m=\u001b[0m\u001b[0meval_env\u001b[0m\u001b[0;34m,\u001b[0m\u001b[0;34m\u001b[0m\u001b[0m\n\u001b[0;32m--> 147\u001b[0;31m                                                          missing=missing)\n\u001b[0m\u001b[1;32m    148\u001b[0m         kwargs.update({'missing_idx': missing_idx,\n\u001b[1;32m    149\u001b[0m                        'missing': missing})\n",
      "\u001b[0;32m/Users/nick/.pyenv/versions/anaconda3-4.3.1/lib/python3.6/site-packages/statsmodels/formula/formulatools.py\u001b[0m in \u001b[0;36mhandle_formula_data\u001b[0;34m(Y, X, formula, depth, missing)\u001b[0m\n\u001b[1;32m     63\u001b[0m         \u001b[0;32mif\u001b[0m \u001b[0mdata_util\u001b[0m\u001b[0;34m.\u001b[0m\u001b[0m_is_using_pandas\u001b[0m\u001b[0;34m(\u001b[0m\u001b[0mY\u001b[0m\u001b[0;34m,\u001b[0m \u001b[0;32mNone\u001b[0m\u001b[0;34m)\u001b[0m\u001b[0;34m:\u001b[0m\u001b[0;34m\u001b[0m\u001b[0m\n\u001b[1;32m     64\u001b[0m             result = dmatrices(formula, Y, depth, return_type='dataframe',\n\u001b[0;32m---> 65\u001b[0;31m                                NA_action=na_action)\n\u001b[0m\u001b[1;32m     66\u001b[0m         \u001b[0;32melse\u001b[0m\u001b[0;34m:\u001b[0m\u001b[0;34m\u001b[0m\u001b[0m\n\u001b[1;32m     67\u001b[0m             result = dmatrices(formula, Y, depth, return_type='dataframe',\n",
      "\u001b[0;32m/Users/nick/.pyenv/versions/anaconda3-4.3.1/lib/python3.6/site-packages/patsy/highlevel.py\u001b[0m in \u001b[0;36mdmatrices\u001b[0;34m(formula_like, data, eval_env, NA_action, return_type)\u001b[0m\n\u001b[1;32m    308\u001b[0m     \u001b[0meval_env\u001b[0m \u001b[0;34m=\u001b[0m \u001b[0mEvalEnvironment\u001b[0m\u001b[0;34m.\u001b[0m\u001b[0mcapture\u001b[0m\u001b[0;34m(\u001b[0m\u001b[0meval_env\u001b[0m\u001b[0;34m,\u001b[0m \u001b[0mreference\u001b[0m\u001b[0;34m=\u001b[0m\u001b[0;36m1\u001b[0m\u001b[0;34m)\u001b[0m\u001b[0;34m\u001b[0m\u001b[0m\n\u001b[1;32m    309\u001b[0m     (lhs, rhs) = _do_highlevel_design(formula_like, data, eval_env,\n\u001b[0;32m--> 310\u001b[0;31m                                       NA_action, return_type)\n\u001b[0m\u001b[1;32m    311\u001b[0m     \u001b[0;32mif\u001b[0m \u001b[0mlhs\u001b[0m\u001b[0;34m.\u001b[0m\u001b[0mshape\u001b[0m\u001b[0;34m[\u001b[0m\u001b[0;36m1\u001b[0m\u001b[0;34m]\u001b[0m \u001b[0;34m==\u001b[0m \u001b[0;36m0\u001b[0m\u001b[0;34m:\u001b[0m\u001b[0;34m\u001b[0m\u001b[0m\n\u001b[1;32m    312\u001b[0m         \u001b[0;32mraise\u001b[0m \u001b[0mPatsyError\u001b[0m\u001b[0;34m(\u001b[0m\u001b[0;34m\"model is missing required outcome variables\"\u001b[0m\u001b[0;34m)\u001b[0m\u001b[0;34m\u001b[0m\u001b[0m\n",
      "\u001b[0;32m/Users/nick/.pyenv/versions/anaconda3-4.3.1/lib/python3.6/site-packages/patsy/highlevel.py\u001b[0m in \u001b[0;36m_do_highlevel_design\u001b[0;34m(formula_like, data, eval_env, NA_action, return_type)\u001b[0m\n\u001b[1;32m    163\u001b[0m         \u001b[0;32mreturn\u001b[0m \u001b[0miter\u001b[0m\u001b[0;34m(\u001b[0m\u001b[0;34m[\u001b[0m\u001b[0mdata\u001b[0m\u001b[0;34m]\u001b[0m\u001b[0;34m)\u001b[0m\u001b[0;34m\u001b[0m\u001b[0m\n\u001b[1;32m    164\u001b[0m     design_infos = _try_incr_builders(formula_like, data_iter_maker, eval_env,\n\u001b[0;32m--> 165\u001b[0;31m                                       NA_action)\n\u001b[0m\u001b[1;32m    166\u001b[0m     \u001b[0;32mif\u001b[0m \u001b[0mdesign_infos\u001b[0m \u001b[0;32mis\u001b[0m \u001b[0;32mnot\u001b[0m \u001b[0;32mNone\u001b[0m\u001b[0;34m:\u001b[0m\u001b[0;34m\u001b[0m\u001b[0m\n\u001b[1;32m    167\u001b[0m         return build_design_matrices(design_infos, data,\n",
      "\u001b[0;32m/Users/nick/.pyenv/versions/anaconda3-4.3.1/lib/python3.6/site-packages/patsy/highlevel.py\u001b[0m in \u001b[0;36m_try_incr_builders\u001b[0;34m(formula_like, data_iter_maker, eval_env, NA_action)\u001b[0m\n\u001b[1;32m     68\u001b[0m                                       \u001b[0mdata_iter_maker\u001b[0m\u001b[0;34m,\u001b[0m\u001b[0;34m\u001b[0m\u001b[0m\n\u001b[1;32m     69\u001b[0m                                       \u001b[0meval_env\u001b[0m\u001b[0;34m,\u001b[0m\u001b[0;34m\u001b[0m\u001b[0m\n\u001b[0;32m---> 70\u001b[0;31m                                       NA_action)\n\u001b[0m\u001b[1;32m     71\u001b[0m     \u001b[0;32melse\u001b[0m\u001b[0;34m:\u001b[0m\u001b[0;34m\u001b[0m\u001b[0m\n\u001b[1;32m     72\u001b[0m         \u001b[0;32mreturn\u001b[0m \u001b[0;32mNone\u001b[0m\u001b[0;34m\u001b[0m\u001b[0m\n",
      "\u001b[0;32m/Users/nick/.pyenv/versions/anaconda3-4.3.1/lib/python3.6/site-packages/patsy/build.py\u001b[0m in \u001b[0;36mdesign_matrix_builders\u001b[0;34m(termlists, data_iter_maker, eval_env, NA_action)\u001b[0m\n\u001b[1;32m    694\u001b[0m                                                    \u001b[0mfactor_states\u001b[0m\u001b[0;34m,\u001b[0m\u001b[0;34m\u001b[0m\u001b[0m\n\u001b[1;32m    695\u001b[0m                                                    \u001b[0mdata_iter_maker\u001b[0m\u001b[0;34m,\u001b[0m\u001b[0;34m\u001b[0m\u001b[0m\n\u001b[0;32m--> 696\u001b[0;31m                                                    NA_action)\n\u001b[0m\u001b[1;32m    697\u001b[0m     \u001b[0;31m# Now we need the factor infos, which encapsulate the knowledge of\u001b[0m\u001b[0;34m\u001b[0m\u001b[0;34m\u001b[0m\u001b[0m\n\u001b[1;32m    698\u001b[0m     \u001b[0;31m# how to turn any given factor into a chunk of data:\u001b[0m\u001b[0;34m\u001b[0m\u001b[0;34m\u001b[0m\u001b[0m\n",
      "\u001b[0;32m/Users/nick/.pyenv/versions/anaconda3-4.3.1/lib/python3.6/site-packages/patsy/build.py\u001b[0m in \u001b[0;36m_examine_factor_types\u001b[0;34m(factors, factor_states, data_iter_maker, NA_action)\u001b[0m\n\u001b[1;32m    441\u001b[0m     \u001b[0;32mfor\u001b[0m \u001b[0mdata\u001b[0m \u001b[0;32min\u001b[0m \u001b[0mdata_iter_maker\u001b[0m\u001b[0;34m(\u001b[0m\u001b[0;34m)\u001b[0m\u001b[0;34m:\u001b[0m\u001b[0;34m\u001b[0m\u001b[0m\n\u001b[1;32m    442\u001b[0m         \u001b[0;32mfor\u001b[0m \u001b[0mfactor\u001b[0m \u001b[0;32min\u001b[0m \u001b[0mlist\u001b[0m\u001b[0;34m(\u001b[0m\u001b[0mexamine_needed\u001b[0m\u001b[0;34m)\u001b[0m\u001b[0;34m:\u001b[0m\u001b[0;34m\u001b[0m\u001b[0m\n\u001b[0;32m--> 443\u001b[0;31m             \u001b[0mvalue\u001b[0m \u001b[0;34m=\u001b[0m \u001b[0mfactor\u001b[0m\u001b[0;34m.\u001b[0m\u001b[0meval\u001b[0m\u001b[0;34m(\u001b[0m\u001b[0mfactor_states\u001b[0m\u001b[0;34m[\u001b[0m\u001b[0mfactor\u001b[0m\u001b[0;34m]\u001b[0m\u001b[0;34m,\u001b[0m \u001b[0mdata\u001b[0m\u001b[0;34m)\u001b[0m\u001b[0;34m\u001b[0m\u001b[0m\n\u001b[0m\u001b[1;32m    444\u001b[0m             \u001b[0;32mif\u001b[0m \u001b[0mfactor\u001b[0m \u001b[0;32min\u001b[0m \u001b[0mcat_sniffers\u001b[0m \u001b[0;32mor\u001b[0m \u001b[0mguess_categorical\u001b[0m\u001b[0;34m(\u001b[0m\u001b[0mvalue\u001b[0m\u001b[0;34m)\u001b[0m\u001b[0;34m:\u001b[0m\u001b[0;34m\u001b[0m\u001b[0m\n\u001b[1;32m    445\u001b[0m                 \u001b[0;32mif\u001b[0m \u001b[0mfactor\u001b[0m \u001b[0;32mnot\u001b[0m \u001b[0;32min\u001b[0m \u001b[0mcat_sniffers\u001b[0m\u001b[0;34m:\u001b[0m\u001b[0;34m\u001b[0m\u001b[0m\n",
      "\u001b[0;32m/Users/nick/.pyenv/versions/anaconda3-4.3.1/lib/python3.6/site-packages/patsy/eval.py\u001b[0m in \u001b[0;36meval\u001b[0;34m(self, memorize_state, data)\u001b[0m\n\u001b[1;32m    564\u001b[0m         return self._eval(memorize_state[\"eval_code\"],\n\u001b[1;32m    565\u001b[0m                           \u001b[0mmemorize_state\u001b[0m\u001b[0;34m,\u001b[0m\u001b[0;34m\u001b[0m\u001b[0m\n\u001b[0;32m--> 566\u001b[0;31m                           data)\n\u001b[0m\u001b[1;32m    567\u001b[0m \u001b[0;34m\u001b[0m\u001b[0m\n\u001b[1;32m    568\u001b[0m     \u001b[0m__getstate__\u001b[0m \u001b[0;34m=\u001b[0m \u001b[0mno_pickling\u001b[0m\u001b[0;34m\u001b[0m\u001b[0m\n",
      "\u001b[0;32m/Users/nick/.pyenv/versions/anaconda3-4.3.1/lib/python3.6/site-packages/patsy/eval.py\u001b[0m in \u001b[0;36m_eval\u001b[0;34m(self, code, memorize_state, data)\u001b[0m\n\u001b[1;32m    549\u001b[0m                                  \u001b[0mmemorize_state\u001b[0m\u001b[0;34m[\u001b[0m\u001b[0;34m\"eval_env\"\u001b[0m\u001b[0;34m]\u001b[0m\u001b[0;34m.\u001b[0m\u001b[0meval\u001b[0m\u001b[0;34m,\u001b[0m\u001b[0;34m\u001b[0m\u001b[0m\n\u001b[1;32m    550\u001b[0m                                  \u001b[0mcode\u001b[0m\u001b[0;34m,\u001b[0m\u001b[0;34m\u001b[0m\u001b[0m\n\u001b[0;32m--> 551\u001b[0;31m                                  inner_namespace=inner_namespace)\n\u001b[0m\u001b[1;32m    552\u001b[0m \u001b[0;34m\u001b[0m\u001b[0m\n\u001b[1;32m    553\u001b[0m     \u001b[0;32mdef\u001b[0m \u001b[0mmemorize_chunk\u001b[0m\u001b[0;34m(\u001b[0m\u001b[0mself\u001b[0m\u001b[0;34m,\u001b[0m \u001b[0mstate\u001b[0m\u001b[0;34m,\u001b[0m \u001b[0mwhich_pass\u001b[0m\u001b[0;34m,\u001b[0m \u001b[0mdata\u001b[0m\u001b[0;34m)\u001b[0m\u001b[0;34m:\u001b[0m\u001b[0;34m\u001b[0m\u001b[0m\n",
      "\u001b[0;32m/Users/nick/.pyenv/versions/anaconda3-4.3.1/lib/python3.6/site-packages/patsy/compat.py\u001b[0m in \u001b[0;36mcall_and_wrap_exc\u001b[0;34m(msg, origin, f, *args, **kwargs)\u001b[0m\n\u001b[1;32m    122\u001b[0m                                  origin)\n\u001b[1;32m    123\u001b[0m             \u001b[0;31m# Use 'exec' to hide this syntax from the Python 2 parser:\u001b[0m\u001b[0;34m\u001b[0m\u001b[0;34m\u001b[0m\u001b[0m\n\u001b[0;32m--> 124\u001b[0;31m             \u001b[0mexec\u001b[0m\u001b[0;34m(\u001b[0m\u001b[0;34m\"raise new_exc from e\"\u001b[0m\u001b[0;34m)\u001b[0m\u001b[0;34m\u001b[0m\u001b[0m\n\u001b[0m\u001b[1;32m    125\u001b[0m         \u001b[0;32melse\u001b[0m\u001b[0;34m:\u001b[0m\u001b[0;34m\u001b[0m\u001b[0m\n\u001b[1;32m    126\u001b[0m             \u001b[0;31m# In python 2, we just let the original exception escape -- better\u001b[0m\u001b[0;34m\u001b[0m\u001b[0;34m\u001b[0m\u001b[0m\n",
      "\u001b[0;32m/Users/nick/.pyenv/versions/anaconda3-4.3.1/lib/python3.6/site-packages/patsy/compat.py\u001b[0m in \u001b[0;36m<module>\u001b[0;34m()\u001b[0m\n",
      "\u001b[0;31mPatsyError\u001b[0m: Error evaluating factor: TypeError: cannot compare a dtyped [int64] array with a scalar of type [bool]\n    inv_RT ~ ortho_center*phono_center +(1 + ortho_center*phono_center|C(participant))\n                                                          ^^^^^^^^^^^^^^^^^^^^^^^^^^^"
     ]
    }
   ],
   "source": [
    "md = smf.mixedlm(\n",
    "    \"inv_RT ~ \"\n",
    "    \"ortho_center*phono_center +\"\n",
    "    \"(1 + ortho_center*phono_center|C(participant))\",\n",
    "#     \"(1 + (ortho_center*phono_center):C(sentence_number))\",\n",
    "    criticals_only, groups=criticals_only[['participant']])\n",
    "mdf = md.fit()\n",
    "mdf.summary()"
   ]
  },
  {
   "cell_type": "code",
   "execution_count": 106,
   "metadata": {
    "collapsed": false
   },
   "outputs": [],
   "source": [
    "participants_flat.loc[participants_flat['sentence_index'] == participants_flat['critical_index']].to_csv('output/participants_flat-critical_only.csv', sep='\\t')"
   ]
  },
  {
   "cell_type": "code",
   "execution_count": 103,
   "metadata": {
    "collapsed": false
   },
   "outputs": [
    {
     "data": {
      "text/html": [
       "<div>\n",
       "<table border=\"1\" class=\"dataframe\">\n",
       "  <thead>\n",
       "    <tr style=\"text-align: right;\">\n",
       "      <th></th>\n",
       "      <th>block_acc</th>\n",
       "    </tr>\n",
       "  </thead>\n",
       "  <tbody>\n",
       "    <tr>\n",
       "      <th>count</th>\n",
       "      <td>769.000000</td>\n",
       "    </tr>\n",
       "    <tr>\n",
       "      <th>mean</th>\n",
       "      <td>0.819246</td>\n",
       "    </tr>\n",
       "    <tr>\n",
       "      <th>std</th>\n",
       "      <td>0.385065</td>\n",
       "    </tr>\n",
       "    <tr>\n",
       "      <th>min</th>\n",
       "      <td>0.000000</td>\n",
       "    </tr>\n",
       "    <tr>\n",
       "      <th>25%</th>\n",
       "      <td>1.000000</td>\n",
       "    </tr>\n",
       "    <tr>\n",
       "      <th>50%</th>\n",
       "      <td>1.000000</td>\n",
       "    </tr>\n",
       "    <tr>\n",
       "      <th>75%</th>\n",
       "      <td>1.000000</td>\n",
       "    </tr>\n",
       "    <tr>\n",
       "      <th>max</th>\n",
       "      <td>1.000000</td>\n",
       "    </tr>\n",
       "  </tbody>\n",
       "</table>\n",
       "</div>"
      ],
      "text/plain": [
       "        block_acc\n",
       "count  769.000000\n",
       "mean     0.819246\n",
       "std      0.385065\n",
       "min      0.000000\n",
       "25%      1.000000\n",
       "50%      1.000000\n",
       "75%      1.000000\n",
       "max      1.000000"
      ]
     },
     "execution_count": 103,
     "metadata": {},
     "output_type": "execute_result"
    }
   ],
   "source": [
    "participants_flat[['participant', 'block_acc']].apply(pd.to_numeric).astype(np.float, raise_on_error=False).groupby('participant').describe().loc[121]"
   ]
  },
  {
   "cell_type": "markdown",
   "metadata": {},
   "source": [
    "---"
   ]
  },
  {
   "cell_type": "markdown",
   "metadata": {},
   "source": [
    "# Compute descriptive statistics"
   ]
  },
  {
   "cell_type": "code",
   "execution_count": 99,
   "metadata": {
    "collapsed": false
   },
   "outputs": [
    {
     "data": {
      "text/plain": [
       "count    53.000000\n",
       "mean     71.953616\n",
       "std       9.110517\n",
       "min      42.708333\n",
       "25%      67.708333\n",
       "50%      72.916667\n",
       "75%      78.125000\n",
       "max      86.458333\n",
       "Name: block_acc, dtype: float64"
      ]
     },
     "metadata": {},
     "output_type": "display_data"
    },
    {
     "data": {
      "text/plain": [
       "count    53.000000\n",
       "mean     77.338836\n",
       "std       7.924954\n",
       "min      52.083333\n",
       "25%      72.916667\n",
       "50%      79.166667\n",
       "75%      82.291667\n",
       "max      89.583333\n",
       "Name: critical_reached, dtype: float64"
      ]
     },
     "metadata": {},
     "output_type": "display_data"
    },
    {
     "data": {
      "text/plain": [
       "count     96.000000\n",
       "mean      71.953616\n",
       "std       20.553543\n",
       "min        9.433962\n",
       "25%       61.320755\n",
       "50%       80.188679\n",
       "75%       86.792453\n",
       "max      100.000000\n",
       "Name: block_acc, dtype: float64"
      ]
     },
     "metadata": {},
     "output_type": "display_data"
    },
    {
     "data": {
      "text/plain": [
       "count     96.000000\n",
       "mean      77.338836\n",
       "std       19.474836\n",
       "min       11.320755\n",
       "25%       69.339623\n",
       "50%       83.018868\n",
       "75%       90.566038\n",
       "max      100.000000\n",
       "Name: critical_reached, dtype: float64"
      ]
     },
     "metadata": {},
     "output_type": "display_data"
    },
    {
     "data": {
      "text/html": [
       "<div>\n",
       "<table border=\"1\" class=\"dataframe\">\n",
       "  <thead>\n",
       "    <tr style=\"text-align: right;\">\n",
       "      <th></th>\n",
       "      <th></th>\n",
       "      <th>block_acc</th>\n",
       "      <th>critical_reached</th>\n",
       "      <th>participant</th>\n",
       "      <th>prev_pos</th>\n",
       "      <th>resp_RT</th>\n",
       "      <th>resp_acc</th>\n",
       "      <th>sentence_number</th>\n",
       "    </tr>\n",
       "    <tr>\n",
       "      <th>condition</th>\n",
       "      <th></th>\n",
       "      <th></th>\n",
       "      <th></th>\n",
       "      <th></th>\n",
       "      <th></th>\n",
       "      <th></th>\n",
       "      <th></th>\n",
       "      <th></th>\n",
       "    </tr>\n",
       "  </thead>\n",
       "  <tbody>\n",
       "    <tr>\n",
       "      <th rowspan=\"7\" valign=\"top\">1.0</th>\n",
       "      <th>mean</th>\n",
       "      <td>0.922543</td>\n",
       "      <td>1.0</td>\n",
       "      <td>126.860116</td>\n",
       "      <td>0.495906</td>\n",
       "      <td>1083.355341</td>\n",
       "      <td>0.965318</td>\n",
       "      <td>49.684393</td>\n",
       "    </tr>\n",
       "    <tr>\n",
       "      <th>std</th>\n",
       "      <td>0.267469</td>\n",
       "      <td>0.0</td>\n",
       "      <td>15.453562</td>\n",
       "      <td>0.500276</td>\n",
       "      <td>744.978226</td>\n",
       "      <td>0.183079</td>\n",
       "      <td>27.886568</td>\n",
       "    </tr>\n",
       "    <tr>\n",
       "      <th>min</th>\n",
       "      <td>0.000000</td>\n",
       "      <td>1.0</td>\n",
       "      <td>101.000000</td>\n",
       "      <td>0.000000</td>\n",
       "      <td>0.210000</td>\n",
       "      <td>0.000000</td>\n",
       "      <td>1.000000</td>\n",
       "    </tr>\n",
       "    <tr>\n",
       "      <th>25%</th>\n",
       "      <td>1.000000</td>\n",
       "      <td>1.0</td>\n",
       "      <td>113.000000</td>\n",
       "      <td>0.000000</td>\n",
       "      <td>653.620000</td>\n",
       "      <td>1.000000</td>\n",
       "      <td>27.000000</td>\n",
       "    </tr>\n",
       "    <tr>\n",
       "      <th>50%</th>\n",
       "      <td>1.000000</td>\n",
       "      <td>1.0</td>\n",
       "      <td>127.000000</td>\n",
       "      <td>0.000000</td>\n",
       "      <td>884.480000</td>\n",
       "      <td>1.000000</td>\n",
       "      <td>51.000000</td>\n",
       "    </tr>\n",
       "    <tr>\n",
       "      <th>75%</th>\n",
       "      <td>1.000000</td>\n",
       "      <td>1.0</td>\n",
       "      <td>140.000000</td>\n",
       "      <td>1.000000</td>\n",
       "      <td>1222.460000</td>\n",
       "      <td>1.000000</td>\n",
       "      <td>74.000000</td>\n",
       "    </tr>\n",
       "    <tr>\n",
       "      <th>max</th>\n",
       "      <td>1.000000</td>\n",
       "      <td>1.0</td>\n",
       "      <td>153.000000</td>\n",
       "      <td>1.000000</td>\n",
       "      <td>7032.840000</td>\n",
       "      <td>1.000000</td>\n",
       "      <td>96.000000</td>\n",
       "    </tr>\n",
       "    <tr>\n",
       "      <th rowspan=\"7\" valign=\"top\">2.0</th>\n",
       "      <th>mean</th>\n",
       "      <td>0.934678</td>\n",
       "      <td>1.0</td>\n",
       "      <td>126.778098</td>\n",
       "      <td>0.488802</td>\n",
       "      <td>1034.570288</td>\n",
       "      <td>0.972142</td>\n",
       "      <td>49.424592</td>\n",
       "    </tr>\n",
       "    <tr>\n",
       "      <th>std</th>\n",
       "      <td>0.247212</td>\n",
       "      <td>0.0</td>\n",
       "      <td>15.632736</td>\n",
       "      <td>0.500118</td>\n",
       "      <td>555.906863</td>\n",
       "      <td>0.164644</td>\n",
       "      <td>27.192235</td>\n",
       "    </tr>\n",
       "    <tr>\n",
       "      <th>min</th>\n",
       "      <td>0.000000</td>\n",
       "      <td>1.0</td>\n",
       "      <td>101.000000</td>\n",
       "      <td>0.000000</td>\n",
       "      <td>0.160000</td>\n",
       "      <td>0.000000</td>\n",
       "      <td>1.000000</td>\n",
       "    </tr>\n",
       "    <tr>\n",
       "      <th>25%</th>\n",
       "      <td>1.000000</td>\n",
       "      <td>1.0</td>\n",
       "      <td>113.000000</td>\n",
       "      <td>0.000000</td>\n",
       "      <td>654.740000</td>\n",
       "      <td>1.000000</td>\n",
       "      <td>27.000000</td>\n",
       "    </tr>\n",
       "    <tr>\n",
       "      <th>50%</th>\n",
       "      <td>1.000000</td>\n",
       "      <td>1.0</td>\n",
       "      <td>127.000000</td>\n",
       "      <td>0.000000</td>\n",
       "      <td>885.530000</td>\n",
       "      <td>1.000000</td>\n",
       "      <td>50.000000</td>\n",
       "    </tr>\n",
       "    <tr>\n",
       "      <th>75%</th>\n",
       "      <td>1.000000</td>\n",
       "      <td>1.0</td>\n",
       "      <td>140.000000</td>\n",
       "      <td>1.000000</td>\n",
       "      <td>1222.220000</td>\n",
       "      <td>1.000000</td>\n",
       "      <td>73.000000</td>\n",
       "    </tr>\n",
       "    <tr>\n",
       "      <th>max</th>\n",
       "      <td>1.000000</td>\n",
       "      <td>1.0</td>\n",
       "      <td>153.000000</td>\n",
       "      <td>1.000000</td>\n",
       "      <td>4929.940000</td>\n",
       "      <td>1.000000</td>\n",
       "      <td>96.000000</td>\n",
       "    </tr>\n",
       "    <tr>\n",
       "      <th rowspan=\"7\" valign=\"top\">3.0</th>\n",
       "      <th>mean</th>\n",
       "      <td>0.924436</td>\n",
       "      <td>1.0</td>\n",
       "      <td>126.835132</td>\n",
       "      <td>0.491036</td>\n",
       "      <td>990.655849</td>\n",
       "      <td>0.974485</td>\n",
       "      <td>49.396467</td>\n",
       "    </tr>\n",
       "    <tr>\n",
       "      <th>std</th>\n",
       "      <td>0.264429</td>\n",
       "      <td>0.0</td>\n",
       "      <td>15.458364</td>\n",
       "      <td>0.500169</td>\n",
       "      <td>616.122673</td>\n",
       "      <td>0.157761</td>\n",
       "      <td>26.847489</td>\n",
       "    </tr>\n",
       "    <tr>\n",
       "      <th>min</th>\n",
       "      <td>0.000000</td>\n",
       "      <td>1.0</td>\n",
       "      <td>101.000000</td>\n",
       "      <td>0.000000</td>\n",
       "      <td>358.380000</td>\n",
       "      <td>0.000000</td>\n",
       "      <td>1.000000</td>\n",
       "    </tr>\n",
       "    <tr>\n",
       "      <th>25%</th>\n",
       "      <td>1.000000</td>\n",
       "      <td>1.0</td>\n",
       "      <td>113.000000</td>\n",
       "      <td>0.000000</td>\n",
       "      <td>633.110000</td>\n",
       "      <td>1.000000</td>\n",
       "      <td>27.500000</td>\n",
       "    </tr>\n",
       "    <tr>\n",
       "      <th>50%</th>\n",
       "      <td>1.000000</td>\n",
       "      <td>1.0</td>\n",
       "      <td>127.000000</td>\n",
       "      <td>0.000000</td>\n",
       "      <td>843.180000</td>\n",
       "      <td>1.000000</td>\n",
       "      <td>50.000000</td>\n",
       "    </tr>\n",
       "    <tr>\n",
       "      <th>75%</th>\n",
       "      <td>1.000000</td>\n",
       "      <td>1.0</td>\n",
       "      <td>140.000000</td>\n",
       "      <td>1.000000</td>\n",
       "      <td>1138.130000</td>\n",
       "      <td>1.000000</td>\n",
       "      <td>72.000000</td>\n",
       "    </tr>\n",
       "    <tr>\n",
       "      <th>max</th>\n",
       "      <td>1.000000</td>\n",
       "      <td>1.0</td>\n",
       "      <td>153.000000</td>\n",
       "      <td>1.000000</td>\n",
       "      <td>11604.640000</td>\n",
       "      <td>1.000000</td>\n",
       "      <td>96.000000</td>\n",
       "    </tr>\n",
       "    <tr>\n",
       "      <th rowspan=\"7\" valign=\"top\">4.0</th>\n",
       "      <th>mean</th>\n",
       "      <td>0.938614</td>\n",
       "      <td>1.0</td>\n",
       "      <td>126.703960</td>\n",
       "      <td>0.476908</td>\n",
       "      <td>933.681267</td>\n",
       "      <td>0.980198</td>\n",
       "      <td>50.333663</td>\n",
       "    </tr>\n",
       "    <tr>\n",
       "      <th>std</th>\n",
       "      <td>0.240156</td>\n",
       "      <td>0.0</td>\n",
       "      <td>15.504483</td>\n",
       "      <td>0.499717</td>\n",
       "      <td>469.646123</td>\n",
       "      <td>0.139388</td>\n",
       "      <td>27.442138</td>\n",
       "    </tr>\n",
       "    <tr>\n",
       "      <th>min</th>\n",
       "      <td>0.000000</td>\n",
       "      <td>1.0</td>\n",
       "      <td>101.000000</td>\n",
       "      <td>0.000000</td>\n",
       "      <td>0.180000</td>\n",
       "      <td>0.000000</td>\n",
       "      <td>1.000000</td>\n",
       "    </tr>\n",
       "    <tr>\n",
       "      <th>25%</th>\n",
       "      <td>1.000000</td>\n",
       "      <td>1.0</td>\n",
       "      <td>113.000000</td>\n",
       "      <td>0.000000</td>\n",
       "      <td>632.372500</td>\n",
       "      <td>1.000000</td>\n",
       "      <td>29.000000</td>\n",
       "    </tr>\n",
       "    <tr>\n",
       "      <th>50%</th>\n",
       "      <td>1.000000</td>\n",
       "      <td>1.0</td>\n",
       "      <td>127.000000</td>\n",
       "      <td>0.000000</td>\n",
       "      <td>822.220000</td>\n",
       "      <td>1.000000</td>\n",
       "      <td>51.000000</td>\n",
       "    </tr>\n",
       "    <tr>\n",
       "      <th>75%</th>\n",
       "      <td>1.000000</td>\n",
       "      <td>1.0</td>\n",
       "      <td>140.000000</td>\n",
       "      <td>1.000000</td>\n",
       "      <td>1076.325000</td>\n",
       "      <td>1.000000</td>\n",
       "      <td>74.000000</td>\n",
       "    </tr>\n",
       "    <tr>\n",
       "      <th>max</th>\n",
       "      <td>1.000000</td>\n",
       "      <td>1.0</td>\n",
       "      <td>153.000000</td>\n",
       "      <td>1.000000</td>\n",
       "      <td>5921.400000</td>\n",
       "      <td>1.000000</td>\n",
       "      <td>96.000000</td>\n",
       "    </tr>\n",
       "  </tbody>\n",
       "</table>\n",
       "</div>"
      ],
      "text/plain": [
       "                block_acc  critical_reached  participant  prev_pos  \\\n",
       "condition                                                            \n",
       "1.0       mean   0.922543               1.0   126.860116  0.495906   \n",
       "          std    0.267469               0.0    15.453562  0.500276   \n",
       "          min    0.000000               1.0   101.000000  0.000000   \n",
       "          25%    1.000000               1.0   113.000000  0.000000   \n",
       "          50%    1.000000               1.0   127.000000  0.000000   \n",
       "          75%    1.000000               1.0   140.000000  1.000000   \n",
       "          max    1.000000               1.0   153.000000  1.000000   \n",
       "2.0       mean   0.934678               1.0   126.778098  0.488802   \n",
       "          std    0.247212               0.0    15.632736  0.500118   \n",
       "          min    0.000000               1.0   101.000000  0.000000   \n",
       "          25%    1.000000               1.0   113.000000  0.000000   \n",
       "          50%    1.000000               1.0   127.000000  0.000000   \n",
       "          75%    1.000000               1.0   140.000000  1.000000   \n",
       "          max    1.000000               1.0   153.000000  1.000000   \n",
       "3.0       mean   0.924436               1.0   126.835132  0.491036   \n",
       "          std    0.264429               0.0    15.458364  0.500169   \n",
       "          min    0.000000               1.0   101.000000  0.000000   \n",
       "          25%    1.000000               1.0   113.000000  0.000000   \n",
       "          50%    1.000000               1.0   127.000000  0.000000   \n",
       "          75%    1.000000               1.0   140.000000  1.000000   \n",
       "          max    1.000000               1.0   153.000000  1.000000   \n",
       "4.0       mean   0.938614               1.0   126.703960  0.476908   \n",
       "          std    0.240156               0.0    15.504483  0.499717   \n",
       "          min    0.000000               1.0   101.000000  0.000000   \n",
       "          25%    1.000000               1.0   113.000000  0.000000   \n",
       "          50%    1.000000               1.0   127.000000  0.000000   \n",
       "          75%    1.000000               1.0   140.000000  1.000000   \n",
       "          max    1.000000               1.0   153.000000  1.000000   \n",
       "\n",
       "                     resp_RT  resp_acc  sentence_number  \n",
       "condition                                                \n",
       "1.0       mean   1083.355341  0.965318        49.684393  \n",
       "          std     744.978226  0.183079        27.886568  \n",
       "          min       0.210000  0.000000         1.000000  \n",
       "          25%     653.620000  1.000000        27.000000  \n",
       "          50%     884.480000  1.000000        51.000000  \n",
       "          75%    1222.460000  1.000000        74.000000  \n",
       "          max    7032.840000  1.000000        96.000000  \n",
       "2.0       mean   1034.570288  0.972142        49.424592  \n",
       "          std     555.906863  0.164644        27.192235  \n",
       "          min       0.160000  0.000000         1.000000  \n",
       "          25%     654.740000  1.000000        27.000000  \n",
       "          50%     885.530000  1.000000        50.000000  \n",
       "          75%    1222.220000  1.000000        73.000000  \n",
       "          max    4929.940000  1.000000        96.000000  \n",
       "3.0       mean    990.655849  0.974485        49.396467  \n",
       "          std     616.122673  0.157761        26.847489  \n",
       "          min     358.380000  0.000000         1.000000  \n",
       "          25%     633.110000  1.000000        27.500000  \n",
       "          50%     843.180000  1.000000        50.000000  \n",
       "          75%    1138.130000  1.000000        72.000000  \n",
       "          max   11604.640000  1.000000        96.000000  \n",
       "4.0       mean    933.681267  0.980198        50.333663  \n",
       "          std     469.646123  0.139388        27.442138  \n",
       "          min       0.180000  0.000000         1.000000  \n",
       "          25%     632.372500  1.000000        29.000000  \n",
       "          50%     822.220000  1.000000        51.000000  \n",
       "          75%    1076.325000  1.000000        74.000000  \n",
       "          max    5921.400000  1.000000        96.000000  "
      ]
     },
     "metadata": {},
     "output_type": "display_data"
    },
    {
     "name": "stdout",
     "output_type": "stream",
     "text": [
      "       participant  sentence_number  block_acc  critical_reached  condition  \\\n",
      "36           101.0              5.0        1.0               1.0        1.0   \n",
      "93           101.0             13.0        1.0               1.0        1.0   \n",
      "149          101.0             20.0        1.0               1.0        1.0   \n",
      "211          101.0             26.0        1.0               1.0        1.0   \n",
      "241          101.0             29.0        1.0               1.0        1.0   \n",
      "283          101.0             34.0        1.0               1.0        1.0   \n",
      "305          101.0             37.0        1.0               1.0        1.0   \n",
      "358          101.0             42.0        1.0               1.0        1.0   \n",
      "444          101.0             54.0        0.0               1.0        1.0   \n",
      "452          101.0             55.0        1.0               1.0        1.0   \n",
      "563          101.0             68.0        1.0               1.0        1.0   \n",
      "589          101.0             71.0        1.0               1.0        1.0   \n",
      "628          101.0             76.0        1.0               1.0        1.0   \n",
      "700          101.0             85.0        1.0               1.0        1.0   \n",
      "762          101.0             92.0        1.0               1.0        1.0   \n",
      "841          102.0              7.0        1.0               1.0        1.0   \n",
      "867          102.0             10.0        1.0               1.0        1.0   \n",
      "904          102.0             15.0        1.0               1.0        1.0   \n",
      "929          102.0             18.0        1.0               1.0        1.0   \n",
      "1007         102.0             27.0        1.0               1.0        1.0   \n",
      "1063         102.0             36.0        1.0               1.0        1.0   \n",
      "1156         102.0             49.0        1.0               1.0        1.0   \n",
      "1182         102.0             52.0        1.0               1.0        1.0   \n",
      "1226         102.0             57.0        1.0               1.0        1.0   \n",
      "1292         102.0             65.0        1.0               1.0        1.0   \n",
      "1300         102.0             66.0        1.0               1.0        1.0   \n",
      "1339         102.0             70.0        1.0               1.0        1.0   \n",
      "1392         102.0             78.0        1.0               1.0        1.0   \n",
      "1434         102.0             83.0        1.0               1.0        1.0   \n",
      "1467         102.0             86.0        1.0               1.0        1.0   \n",
      "...            ...              ...        ...               ...        ...   \n",
      "38771        152.0             10.0        1.0               1.0        1.0   \n",
      "38876        152.0             23.0        1.0               1.0        1.0   \n",
      "38932        152.0             30.0        1.0               1.0        1.0   \n",
      "38997        152.0             38.0        1.0               1.0        1.0   \n",
      "39013        152.0             39.0        1.0               1.0        1.0   \n",
      "39070        152.0             46.0        1.0               1.0        1.0   \n",
      "39136        152.0             53.0        1.0               1.0        1.0   \n",
      "39198        152.0             62.0        1.0               1.0        1.0   \n",
      "39255        152.0             69.0        1.0               1.0        1.0   \n",
      "39294        152.0             77.0        1.0               1.0        1.0   \n",
      "39306        152.0             78.0        1.0               1.0        1.0   \n",
      "39405        152.0             92.0        1.0               1.0        1.0   \n",
      "39412        152.0             93.0        1.0               1.0        1.0   \n",
      "39499        153.0              8.0        1.0               1.0        1.0   \n",
      "39503        153.0              9.0        1.0               1.0        1.0   \n",
      "39576        153.0             17.0        1.0               1.0        1.0   \n",
      "39625        153.0             22.0        1.0               1.0        1.0   \n",
      "39711        153.0             32.0        1.0               1.0        1.0   \n",
      "39752        153.0             37.0        1.0               1.0        1.0   \n",
      "39814        153.0             45.0        1.0               1.0        1.0   \n",
      "39843        153.0             48.0        1.0               1.0        1.0   \n",
      "39885        153.0             53.0        1.0               1.0        1.0   \n",
      "39909        153.0             56.0        1.0               1.0        1.0   \n",
      "39956        153.0             61.0        1.0               1.0        1.0   \n",
      "39979        153.0             64.0        1.0               1.0        1.0   \n",
      "40047        153.0             71.0        1.0               1.0        1.0   \n",
      "40104        153.0             79.0        1.0               1.0        1.0   \n",
      "40173        153.0             87.0        1.0               1.0        1.0   \n",
      "40200        153.0             90.0        1.0               1.0        1.0   \n",
      "40231        153.0             94.0        0.0               1.0        1.0   \n",
      "\n",
      "       resp_RT  resp_acc  prev_pos  \n",
      "36     3494.61       1.0       0.0  \n",
      "93     1537.84       1.0       0.0  \n",
      "149     611.27       1.0       1.0  \n",
      "211    1032.75       1.0       1.0  \n",
      "241     822.07       1.0       0.0  \n",
      "283     779.44       1.0       0.0  \n",
      "305     611.70       1.0       0.0  \n",
      "358     842.91       1.0       1.0  \n",
      "444     653.33       0.0       0.0  \n",
      "452     696.07       1.0       0.0  \n",
      "563    1601.38       1.0       0.0  \n",
      "589    1410.78       1.0       0.0  \n",
      "628     527.62       1.0       1.0  \n",
      "700    2884.27       1.0       1.0  \n",
      "762     610.80       1.0       1.0  \n",
      "841    1938.81       1.0       1.0  \n",
      "867     822.76       1.0       1.0  \n",
      "904    3224.80       1.0       1.0  \n",
      "929     802.05       1.0       0.0  \n",
      "1007   2592.71       1.0       1.0  \n",
      "1063    463.68       1.0       0.0  \n",
      "1156   1222.96       1.0       0.0  \n",
      "1182    589.96       1.0       1.0  \n",
      "1226    717.37       1.0       0.0  \n",
      "1292    632.29       1.0       1.0  \n",
      "1300   1117.47       1.0       0.0  \n",
      "1339   1559.45       1.0       0.0  \n",
      "1392    422.63       1.0       0.0  \n",
      "1434   1433.16       1.0       0.0  \n",
      "1467    549.33       1.0       1.0  \n",
      "...        ...       ...       ...  \n",
      "38771   654.15       1.0       0.0  \n",
      "38876   844.07       1.0       1.0  \n",
      "38932   885.49       1.0       1.0  \n",
      "38997   548.60       1.0       0.0  \n",
      "39013   465.22       1.0       0.0  \n",
      "39070   612.66       1.0       0.0  \n",
      "39136   633.67       1.0       1.0  \n",
      "39198   591.10       1.0       0.0  \n",
      "39255  1222.46       1.0       1.0  \n",
      "39294   716.93       1.0       0.0  \n",
      "39306  1328.38       1.0       1.0  \n",
      "39405  1160.34       1.0       0.0  \n",
      "39412   927.51       1.0       1.0  \n",
      "39499  1076.36       1.0       1.0  \n",
      "39503   759.23       1.0       1.0  \n",
      "39576  1096.55       1.0       1.0  \n",
      "39625   991.22       1.0       0.0  \n",
      "39711   422.14       1.0       1.0  \n",
      "39752   865.64       1.0       0.0  \n",
      "39814   822.86       1.0       1.0  \n",
      "39843   611.87       1.0       0.0  \n",
      "39885  1055.65       1.0       0.0  \n",
      "39909   507.07       1.0       0.0  \n",
      "39956   992.42       1.0       0.0  \n",
      "39979  1160.98       1.0       0.0  \n",
      "40047  1960.53       1.0       1.0  \n",
      "40104   717.67       1.0       0.0  \n",
      "40173   760.21       1.0       1.0  \n",
      "40200  1054.91       1.0       0.0  \n",
      "40231   506.75       1.0       0.0  \n",
      "\n",
      "[865 rows x 8 columns]\n"
     ]
    }
   ],
   "source": [
    "def compute_sentence_performance():\n",
    "    \n",
    "    sentence_performance = participants_flat.loc[\n",
    "        participants_flat['sentence_index'] == 0,\n",
    "        ['participant', 'sentence_number', 'block_acc', 'critical_reached']\n",
    "    ]\n",
    "\n",
    "    pids = pd.unique(sentence_performance['participant'])\n",
    "    \n",
    "    performance = pd.DataFrame(\n",
    "        columns=['block_acc', 'critical_reached'],\n",
    "        index=pd.Index(pids, name='participant'),\n",
    "        dtype=np.float64\n",
    "    )\n",
    "\n",
    "    for pid in pids:\n",
    "        completed_sentences = sentence_performance.loc[\n",
    "            (sentence_performance['participant'] == pid) &\n",
    "            (sentence_performance['block_acc'] == 1)\n",
    "        ]['sentence_number']\n",
    "        \n",
    "        reached_criticals = sentence_performance.loc[\n",
    "            (sentence_performance['participant'] == pid) &\n",
    "            (sentence_performance['critical_reached'] == 1)\n",
    "        ]['sentence_number']\n",
    "        \n",
    "        performance.loc[pid]['block_acc'] = (completed_sentences.count() / 96 * 100)\n",
    "        performance.loc[pid]['critical_reached'] = (reached_criticals.count() / 96 * 100)\n",
    "        \n",
    "#     display(performance)\n",
    "        \n",
    "    performance = performance.apply(pd.to_numeric).astype(np.float, raise_on_error=False)\n",
    "        \n",
    "    display(performance['block_acc'].describe())\n",
    "    display(performance['critical_reached'].describe())\n",
    "    \n",
    "    return performance\n",
    "                \n",
    "performance_by_part = compute_sentence_performance()\n",
    "\n",
    "def compute_sentence_statistics():\n",
    "    sentence_performance = participants_flat.loc[\n",
    "        participants_flat['sentence_index'] == 0,\n",
    "        ['participant', 'sentence_number', 'block_acc', 'critical_reached']\n",
    "    ]\n",
    "    \n",
    "    sids = pd.unique(sentence_performance['sentence_number'])\n",
    "    \n",
    "    performance = pd.DataFrame(\n",
    "        columns=['block_acc', 'critical_reached'],\n",
    "        index=pd.Index(sids, name='sentence_number'),\n",
    "        dtype=np.float64\n",
    "    )\n",
    "    \n",
    "    for sid in sids:\n",
    "        completed_sentences = sentence_performance.loc[\n",
    "            (sentence_performance['sentence_number'] == sid) &\n",
    "            (sentence_performance['block_acc'] == 1)\n",
    "        ]['participant']\n",
    "        \n",
    "        reached_criticals = sentence_performance.loc[\n",
    "            (sentence_performance['sentence_number'] == sid) &\n",
    "            (sentence_performance['critical_reached'] == 1)\n",
    "        ]['participant']\n",
    "        \n",
    "        performance.loc[sid]['block_acc'] = (completed_sentences.count() / 53 * 100)\n",
    "        performance.loc[sid]['critical_reached'] = (reached_criticals.count() / 53 * 100)\n",
    "        \n",
    "    performance = performance.apply(pd.to_numeric).astype(np.float, raise_on_error=False)\n",
    "        \n",
    "    display(performance['block_acc'].describe())\n",
    "    display(performance['critical_reached'].describe())\n",
    "    \n",
    "    return performance\n",
    "\n",
    "performance_by_sent = compute_sentence_statistics()\n",
    "\n",
    "def compute_conditions():\n",
    "    performance = participants_flat.loc[\n",
    "        participants_flat['sentence_index'] == participants_flat['critical_index'],\n",
    "        ['participant', 'sentence_number', 'block_acc', 'critical_reached', 'condition', 'resp_RT', 'resp_acc', 'prev_pos']\n",
    "    ]\n",
    "    performance = performance.apply(pd.to_numeric).astype(np.float, raise_on_error=False)\n",
    "    \n",
    "    return performance\n",
    "    \n",
    "#     sids = pd.unique(sentence_performance['sentence_number'])\n",
    "    \n",
    "#     performance = pd.DataFrame(\n",
    "#         columns=['block_acc', 'critical_reached'],\n",
    "#         index=pd.Index(sids, name='sentence_number'),\n",
    "#         dtype=np.float64\n",
    "#     )\n",
    "    \n",
    "#     for sid in sids:\n",
    "#         completed_sentences = sentence_performance.loc[\n",
    "#             (sentence_performance['sentence_number'] == sid) &\n",
    "#             (sentence_performance['block_acc'] == 1)\n",
    "#         ]['participant']\n",
    "        \n",
    "#         reached_criticals = sentence_performance.loc[\n",
    "#             (sentence_performance['sentence_number'] == sid) &\n",
    "#             (sentence_performance['critical_reached'] == 1)\n",
    "#         ]['participant']\n",
    "        \n",
    "#         performance.loc[sid]['block_acc'] = (completed_sentences.count() / 53 * 100)\n",
    "#         performance.loc[sid]['critical_reached'] = (reached_criticals.count() / 53 * 100)\n",
    "        \n",
    "#     performance = performance.apply(pd.to_numeric).astype(np.float, raise_on_error=False)\n",
    "        \n",
    "#     display(performance['block_acc'].describe())\n",
    "#     display(performance['critical_reached'].describe())\n",
    "    \n",
    "#     return performance\n",
    "\n",
    "condition_performance = compute_conditions()\n",
    "grouped = condition_performance.groupby('condition').describe()\n",
    "grouped = grouped.loc[grouped.index.get_level_values(1) != 'count']\n",
    "display(grouped)"
   ]
  },
  {
   "cell_type": "code",
   "execution_count": 64,
   "metadata": {
    "collapsed": false
   },
   "outputs": [
    {
     "name": "stderr",
     "output_type": "stream",
     "text": [
      "/Users/nick/.pyenv/versions/anaconda3-4.3.1/lib/python3.6/site-packages/statsmodels/nonparametric/kdetools.py:20: VisibleDeprecationWarning: using a non-integer number instead of an integer will result in an error in the future\n",
      "  y = X[:m/2+1] + np.r_[0,X[m/2+1:],0]*1j\n"
     ]
    },
    {
     "data": {
      "image/png": "[encoded data removed]",
      "text/plain": [
       "<matplotlib.figure.Figure at 0x12e5e34a8>"
      ]
     },
     "metadata": {},
     "output_type": "display_data"
    }
   ],
   "source": [
    "figsize(10,6)\n",
    "p = sns.distplot(performance_by_part['block_acc'])\n",
    "fig = p.get_figure()\n",
    "fig.savefig('descriptives/block_acc.png')"
   ]
  },
  {
   "cell_type": "code",
   "execution_count": 63,
   "metadata": {
    "collapsed": false
   },
   "outputs": [
    {
     "name": "stderr",
     "output_type": "stream",
     "text": [
      "/Users/nick/.pyenv/versions/anaconda3-4.3.1/lib/python3.6/site-packages/statsmodels/nonparametric/kdetools.py:20: VisibleDeprecationWarning: using a non-integer number instead of an integer will result in an error in the future\n",
      "  y = X[:m/2+1] + np.r_[0,X[m/2+1:],0]*1j\n"
     ]
    },
    {
     "data": {
      "image/png": "[encoded data removed]",
      "text/plain": [
       "<matplotlib.figure.Figure at 0x12397a940>"
      ]
     },
     "metadata": {},
     "output_type": "display_data"
    }
   ],
   "source": [
    "p = sns.distplot(performance_by_part['critical_reached'])\n",
    "fig = p.get_figure()\n",
    "fig.savefig('descriptives/critical_reached.png')"
   ]
  },
  {
   "cell_type": "code",
   "execution_count": 68,
   "metadata": {
    "collapsed": false
   },
   "outputs": [
    {
     "name": "stderr",
     "output_type": "stream",
     "text": [
      "/Users/nick/.pyenv/versions/anaconda3-4.3.1/lib/python3.6/site-packages/statsmodels/nonparametric/kdetools.py:20: VisibleDeprecationWarning: using a non-integer number instead of an integer will result in an error in the future\n",
      "  y = X[:m/2+1] + np.r_[0,X[m/2+1:],0]*1j\n"
     ]
    },
    {
     "data": {
      "image/png": "[encoded data removed]",
      "text/plain": [
       "<matplotlib.figure.Figure at 0x13268b978>"
      ]
     },
     "metadata": {},
     "output_type": "display_data"
    }
   ],
   "source": [
    "figsize(10,6)\n",
    "p = sns.distplot(performance_by_sent['block_acc'])\n",
    "fig = p.get_figure()\n",
    "fig.savefig('descriptives/sent_block_acc.png')"
   ]
  },
  {
   "cell_type": "code",
   "execution_count": 69,
   "metadata": {
    "collapsed": false
   },
   "outputs": [
    {
     "name": "stderr",
     "output_type": "stream",
     "text": [
      "/Users/nick/.pyenv/versions/anaconda3-4.3.1/lib/python3.6/site-packages/statsmodels/nonparametric/kdetools.py:20: VisibleDeprecationWarning: using a non-integer number instead of an integer will result in an error in the future\n",
      "  y = X[:m/2+1] + np.r_[0,X[m/2+1:],0]*1j\n"
     ]
    },
    {
     "data": {
      "image/png": "[encoded data removed]",
      "text/plain": [
       "<matplotlib.figure.Figure at 0x12ff029e8>"
      ]
     },
     "metadata": {},
     "output_type": "display_data"
    }
   ],
   "source": [
    "p = sns.distplot(performance_by_sent['critical_reached'])\n",
    "fig = p.get_figure()\n",
    "fig.savefig('descriptives/sent_critical_reached.png')"
   ]
  },
  {
   "cell_type": "code",
   "execution_count": null,
   "metadata": {
    "collapsed": true
   },
   "outputs": [],
   "source": [
    "p = sns.distplot(condition_performance['critical_reached'])\n",
    "fig = p.get_figure()\n",
    "fig.savefig('descriptives/sent_critical_reached.png')"
   ]
  }
 ],
 "metadata": {
  "kernelspec": {
   "display_name": "Python 3",
   "language": "python",
   "name": "python3"
  },
  "language_info": {
   "codemirror_mode": {
    "name": "ipython",
    "version": 3
   },
   "file_extension": ".py",
   "mimetype": "text/x-python",
   "name": "python",
   "nbconvert_exporter": "python",
   "pygments_lexer": "ipython3",
   "version": "3.6.0"
  }
 },
 "nbformat": 4,
 "nbformat_minor": 2
}
